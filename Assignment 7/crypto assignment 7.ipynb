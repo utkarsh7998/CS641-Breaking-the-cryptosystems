{
 "cells": [
  {
   "cell_type": "code",
   "execution_count": 10,
   "metadata": {},
   "outputs": [],
   "source": [
    "from itertools import combinations_with_replacement"
   ]
  },
  {
   "cell_type": "code",
   "execution_count": 11,
   "metadata": {},
   "outputs": [
    {
     "data": {
      "text/plain": [
       "['f',\n",
       " 'g',\n",
       " 'h',\n",
       " 'i',\n",
       " 'j',\n",
       " 'k',\n",
       " 'l',\n",
       " 'm',\n",
       " 'n',\n",
       " 'o',\n",
       " 'p',\n",
       " 'q',\n",
       " 'r',\n",
       " 's',\n",
       " 't',\n",
       " 'u']"
      ]
     },
     "execution_count": 11,
     "metadata": {},
     "output_type": "execute_result"
    }
   ],
   "source": [
    "def range_char(start, stop):\n",
    "    return [chr(n) for n in range(ord(start), ord(stop) + 1)]\n",
    "ans = range_char('f','u')\n",
    "ans\n"
   ]
  },
  {
   "cell_type": "code",
   "execution_count": 12,
   "metadata": {},
   "outputs": [],
   "source": [
    "def get_ascii(ans):\n",
    "    return [ord(n) for n in ans]\n",
    "res = get_ascii(ans)"
   ]
  },
  {
   "cell_type": "code",
   "execution_count": 13,
   "metadata": {},
   "outputs": [
    {
     "data": {
      "text/plain": [
       "[102,\n",
       " 103,\n",
       " 104,\n",
       " 105,\n",
       " 106,\n",
       " 107,\n",
       " 108,\n",
       " 109,\n",
       " 110,\n",
       " 111,\n",
       " 112,\n",
       " 113,\n",
       " 114,\n",
       " 115,\n",
       " 116,\n",
       " 117]"
      ]
     },
     "execution_count": 13,
     "metadata": {},
     "output_type": "execute_result"
    }
   ],
   "source": [
    "res"
   ]
  },
  {
   "cell_type": "code",
   "execution_count": 19,
   "metadata": {},
   "outputs": [
    {
     "name": "stdout",
     "output_type": "stream",
     "text": [
      "[1, 102, 117, 123, 100, 40, 16, 108, 94, 63, 76, 5, 2, 77, 107, 119, 73, 80, 32, 89, 61, 126, 25, 10, 4, 27, 87, 111, 19, 33, 64, 51] ,\n",
      "[1, 103, 68, 19, 52, 22, 107, 99, 37, 1, 103, 68, 19, 52, 22, 107, 99, 37, 1, 103, 68, 19, 52, 22, 107, 99, 37, 1, 103, 68, 19, 52] ,\n",
      "[1, 104, 21, 25, 60, 17, 117, 103, 44, 4, 35, 84, 100, 113, 68, 87, 31, 49, 16, 13, 82, 19, 71, 18, 94, 124, 69, 64, 52, 74, 76, 30] ,\n",
      "[1, 105, 103, 20, 68, 28, 19, 90, 52, 126, 22, 24, 107, 59, 99, 108, 37, 75, 1, 105, 103, 20, 68, 28, 19, 90, 52, 126, 22, 24, 107, 59] ,\n",
      "[1, 106, 60, 10, 44, 92, 100, 59, 31, 111, 82, 56, 94, 58, 52, 51, 72, 12, 2, 85, 120, 20, 88, 57, 73, 118, 62, 95, 37, 112, 61, 116] ,\n",
      "[1, 107, 19, 1, 107, 19, 1, 107, 19, 1, 107, 19, 1, 107, 19, 1, 107, 19, 1, 107, 19, 1, 107, 19, 1, 107, 19, 1, 107, 19, 1, 107] ,\n",
      "[1, 108, 107, 126, 19, 20, 1, 108, 107, 126, 19, 20, 1, 108, 107, 126, 19, 20, 1, 108, 107, 126, 19, 20, 1, 108, 107, 126, 19, 20, 1, 108] ,\n",
      "[1, 109, 70, 10, 74, 65, 100, 105, 15, 111, 34, 23, 94, 86, 103, 51, 98, 14, 2, 91, 13, 20, 21, 3, 73, 83, 30, 95, 68, 46, 61, 45] ,\n",
      "[1, 110, 35, 40, 82, 3, 76, 105, 120, 119, 9, 101, 61, 106, 103, 27, 49, 56, 64, 55, 81, 20, 41, 65, 38, 116, 60, 123, 68, 114, 94, 53] ,\n",
      "[1, 111, 2, 95, 4, 63, 8, 126, 16, 125, 32, 123, 64, 119, 1, 111, 2, 95, 4, 63, 8, 126, 16, 125, 32, 123, 64, 119, 1, 111, 2, 95] ,\n",
      "[1, 112, 98, 54, 79, 85, 122, 75, 18, 111, 113, 83, 25, 6, 37, 80, 70, 93, 2, 97, 69, 108, 31, 43, 117, 23, 36, 95, 99, 39, 50, 12] ,\n",
      "[1, 113, 69, 50, 62, 21, 87, 52, 34, 32, 60, 49, 76, 79, 37, 117, 13, 72, 8, 15, 44, 19, 115, 41, 61, 35, 18, 2, 99, 11, 100, 124] ,\n",
      "[1, 114, 42, 89, 113, 55, 47, 24, 69, 119, 104, 45, 50, 112, 68, 5, 62, 83, 64, 57, 21, 108, 120, 91, 87, 12, 98, 123, 52, 86, 25, 56] ,\n",
      "[1, 115, 17, 50, 35, 88, 87, 99, 82, 32, 124, 36, 76, 104, 22, 117, 120, 84, 8, 31, 9, 19, 26, 69, 61, 30, 21, 2, 103, 34, 100, 70] ,\n",
      "[1, 116, 121, 66, 36, 112, 38, 90, 26, 95, 98, 65, 47, 118, 99, 54, 41, 57, 8, 39, 79, 20, 34, 7, 50, 85, 81, 125, 22, 12, 122, 55] ,\n",
      "[1, 117, 100, 16, 94, 76, 2, 107, 73, 32, 61, 25, 4, 87, 19, 64, 122, 50, 8, 47, 38, 1, 117, 100, 16, 94, 76, 2, 107, 73, 32, 61] ,\n"
     ]
    }
   ],
   "source": [
    "# dp = [[pow(x,i,127) for i in range(31)] for x in range(102,118)]\n",
    "# dp\n",
    "for x in range(102,118):\n",
    "    l = [pow(x,i,127) for i in range(32)]\n",
    "    print(l,\",\")"
   ]
  },
  {
   "cell_type": "code",
   "execution_count": 15,
   "metadata": {},
   "outputs": [
    {
     "data": {
      "text/plain": [
       "117"
      ]
     },
     "execution_count": 15,
     "metadata": {},
     "output_type": "execute_result"
    }
   ],
   "source": [
    "pow(102,2,127)"
   ]
  },
  {
   "cell_type": "code",
   "execution_count": 5,
   "metadata": {},
   "outputs": [],
   "source": [
    "hash_key = [20,16,61,116,89,59,96,62,35,58,56,42,27,39,119,122,12,24,40,70,38,71,14,55,121,2,74,120,94,74,4,57]"
   ]
  },
  {
   "cell_type": "code",
   "execution_count": 6,
   "metadata": {},
   "outputs": [],
   "source": [
    "def Satisfy_eqn(ans,hash_key):\n",
    "    for i in range(32):\n",
    "        if(check(ans,hash_key,i)==False):\n",
    "            return False\n",
    "    return True"
   ]
  },
  {
   "cell_type": "code",
   "execution_count": 7,
   "metadata": {},
   "outputs": [],
   "source": [
    "def check(ans,hash_key,i):\n",
    "    res = 0\n",
    "    for val in ans:\n",
    "        res = (res + pow(val,i,mod=127))%127\n",
    "    return res==hash_key[i]"
   ]
  },
  {
   "cell_type": "code",
   "execution_count": null,
   "metadata": {},
   "outputs": [],
   "source": [
    "x = combinations_with_replacement(res,20)\n",
    "len(list(x))"
   ]
  },
  {
   "cell_type": "code",
   "execution_count": null,
   "metadata": {},
   "outputs": [],
   "source": [
    "\n",
    "ctr = 0\n",
    "for i in x:\n",
    "    if(Satisfy_eqn(i,hash_key)==True):\n",
    "        print(i)\n",
    "    ctr+=1\n",
    "    if(ctr%100000==0):\n",
    "        print(\"ctr=\",ctr)"
   ]
  },
  {
   "cell_type": "code",
   "execution_count": null,
   "metadata": {},
   "outputs": [],
   "source": []
  }
 ],
 "metadata": {
  "kernelspec": {
   "display_name": "Python 3",
   "language": "python",
   "name": "python3"
  },
  "language_info": {
   "codemirror_mode": {
    "name": "ipython",
    "version": 3
   },
   "file_extension": ".py",
   "mimetype": "text/x-python",
   "name": "python",
   "nbconvert_exporter": "python",
   "pygments_lexer": "ipython3",
   "version": "3.8.5"
  }
 },
 "nbformat": 4,
 "nbformat_minor": 4
}
