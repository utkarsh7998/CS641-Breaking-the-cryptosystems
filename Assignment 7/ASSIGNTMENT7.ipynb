{
 "cells": [
  {
   "cell_type": "code",
   "execution_count": 9,
   "metadata": {
    "id": "yXqT0PLAU_LL"
   },
   "outputs": [],
   "source": [
    "from itertools import combinations_with_replacement"
   ]
  },
  {
   "cell_type": "code",
   "execution_count": 10,
   "metadata": {
    "colab": {
     "base_uri": "https://localhost:8080/"
    },
    "id": "1elV8fxdU_LQ",
    "outputId": "d2d5aa2a-8ac2-4e90-aa6b-1327d9281bb3"
   },
   "outputs": [
    {
     "data": {
      "text/plain": [
       "['f',\n",
       " 'g',\n",
       " 'h',\n",
       " 'i',\n",
       " 'j',\n",
       " 'k',\n",
       " 'l',\n",
       " 'm',\n",
       " 'n',\n",
       " 'o',\n",
       " 'p',\n",
       " 'q',\n",
       " 'r',\n",
       " 's',\n",
       " 't',\n",
       " 'u']"
      ]
     },
     "execution_count": 10,
     "metadata": {},
     "output_type": "execute_result"
    }
   ],
   "source": [
    "def range_char(start, stop):\n",
    "    return [chr(n) for n in range(ord(start), ord(stop) + 1)]\n",
    "ans = range_char('f','u')\n",
    "ans\n"
   ]
  },
  {
   "cell_type": "code",
   "execution_count": 11,
   "metadata": {
    "id": "pjVf9T6KU_LT"
   },
   "outputs": [],
   "source": [
    "def get_ascii(ans):\n",
    "    return [ord(n) for n in ans]\n",
    "res = get_ascii(ans)"
   ]
  },
  {
   "cell_type": "code",
   "execution_count": 12,
   "metadata": {
    "colab": {
     "base_uri": "https://localhost:8080/"
    },
    "id": "WaAaNf-mU_LU",
    "outputId": "e0844dc5-9a8e-4f05-9bd4-4d2456da5c03"
   },
   "outputs": [
    {
     "data": {
      "text/plain": [
       "[102,\n",
       " 103,\n",
       " 104,\n",
       " 105,\n",
       " 106,\n",
       " 107,\n",
       " 108,\n",
       " 109,\n",
       " 110,\n",
       " 111,\n",
       " 112,\n",
       " 113,\n",
       " 114,\n",
       " 115,\n",
       " 116,\n",
       " 117]"
      ]
     },
     "execution_count": 12,
     "metadata": {},
     "output_type": "execute_result"
    }
   ],
   "source": [
    "res"
   ]
  },
  {
   "cell_type": "code",
   "execution_count": 13,
   "metadata": {
    "id": "9qN4kmpiU_LW"
   },
   "outputs": [],
   "source": [
    "hash_key = [20,16,61,116,89,59,96,62,35,58,56,42,27,39,119,122,12,24,40,70,38,71,14,55,121,2,74,120,94,74,4,57]"
   ]
  },
  {
   "cell_type": "code",
   "execution_count": 14,
   "metadata": {
    "id": "7RE4JQDlU_LW"
   },
   "outputs": [],
   "source": [
    "def Satisfy_eqn(ans,hash_key):\n",
    "    for i in range(32):\n",
    "        if(check(ans,hash_key,i)==False):\n",
    "            return False\n",
    "    return True"
   ]
  },
  {
   "cell_type": "code",
   "execution_count": 15,
   "metadata": {
    "id": "PCDyiZytU_LX"
   },
   "outputs": [],
   "source": [
    "def check(ans,hash_key,i):\n",
    "    res = 0\n",
    "    for val in ans:\n",
    "        res = (res + pow(val,i,127))%127\n",
    "    return res==hash_key[i]"
   ]
  },
  {
   "cell_type": "code",
   "execution_count": null,
   "metadata": {
    "id": "mLidYIM_U_LY"
   },
   "outputs": [],
   "source": [
    "x = combinations_with_replacement(res,20)\n",
    "ctr = 0\n",
    "for i in x:\n",
    "    if(Satisfy_eqn(i,hash_key)==True):\n",
    "        print(i)\n",
    "        break\n",
    "    # print(i)\n",
    "    ctr+=1\n",
    "    if(ctr%100000000==0):\n",
    "        print(\"ctr=\",ctr)"
   ]
  },
  {
   "cell_type": "code",
   "execution_count": null,
   "metadata": {
    "id": "gBHrljrIU_LZ"
   },
   "outputs": [],
   "source": []
  }
 ],
 "metadata": {
  "colab": {
   "collapsed_sections": [],
   "name": "crypto assignment 7.ipynb",
   "provenance": []
  },
  "kernelspec": {
   "display_name": "Python 3 (ipykernel)",
   "language": "python",
   "name": "python3"
  },
  "language_info": {
   "codemirror_mode": {
    "name": "ipython",
    "version": 3
   },
   "file_extension": ".py",
   "mimetype": "text/x-python",
   "name": "python",
   "nbconvert_exporter": "python",
   "pygments_lexer": "ipython3",
   "version": "3.9.7"
  }
 },
 "nbformat": 4,
 "nbformat_minor": 1
}
