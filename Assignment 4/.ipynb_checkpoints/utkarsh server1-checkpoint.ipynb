{
 "cells": [
  {
   "cell_type": "code",
   "execution_count": null,
   "metadata": {},
   "outputs": [
    {
     "name": "stdout",
     "output_type": "stream",
     "text": [
      "0\n",
      "1\n",
      "2\n",
      "3\n",
      "4\n",
      "5\n",
      "6\n",
      "7\n",
      "8\n",
      "9\n",
      "10\n",
      "11\n",
      "12\n",
      "13\n"
     ]
    }
   ],
   "source": [
    "import wexpect\n",
    "\n",
    "child = wexpect.spawn('ssh students@172.27.26.188')\n",
    "child.expect('students@172.27.26.188\\'s password:')\n",
    "child.sendline('cs641a')\n",
    "child.expect('Enter your group name: ', timeout=50) \n",
    "child.sendline(\"Enciphered\")\n",
    "\n",
    "child.expect('Enter password: ', timeout=50)\n",
    "child.sendline(\"Curve25519!\")\n",
    "\n",
    "child.expect('\\r\\n\\r\\n\\r\\nYou have solved 3 levels so far.\\r\\nLevel you want to start at: ', timeout=50)\n",
    "# Note: After clearing level 4 this needs to be changed to \"solved 4 levels so far\"\n",
    "child.sendline(\"4\")\n",
    "\n",
    "# child.expect('\\r\\nThe rumbling sound is very loud here. It is coming from \\r\\n your right side. A cold blast of air hits you sending \\r\\n shivers up your spine. You look in that direction. \\r\\n There is a large opening on the right from where the \\r\\n\\tsound and the air is coming from. There is a fair amount\\r\\n\\tof light also coming from that direction (you realize that\\r\\n\\tyou have not lighted a matchstick and still you can see).\\r\\n\\tThere is another door, with a panel nearby, to your left \\r\\n\\twhich is closed. The chamber is rocky and cold. Another \\r\\n\\tblast of air hits you from your right and you shiver again. \\r\\n\\r\\n> ', timeout=120)\n",
    "# child.sendline(\"read\")\n",
    "\n",
    "child.expect('.*')\n",
    "child.sendline(\"read\")\n",
    "\n",
    "child.expect('.*')\n",
    "\n",
    "f = open(\"plaintexts1.txt\", 'r')\n",
    "f1= open(\"ciphertexts1.txt\",'w')\n",
    "i = 0\n",
    "for line in f.readlines():\n",
    "\tchild.sendline(line)\n",
    "# \tprint(i,\":\",child.before)\n",
    "\tprint(i)\n",
    "\tf1.writelines(str(child.before)[48:64]+\"\\n\")\n",
    "\tchild.expect(\"Slowly, a new text starts*\")\n",
    "\tchild.sendline(\"c\")\n",
    "\tchild.expect('The text in the screen vanishes!')\n",
    "\ti+=1\n",
    "\n",
    "data = child.read()\n",
    "print(data)\n",
    "child.close()\n",
    "print(child.before, child.after)\n",
    "\n",
    "f.close()\n",
    "f1.close()"
   ]
  },
  {
   "cell_type": "code",
   "execution_count": null,
   "metadata": {},
   "outputs": [],
   "source": []
  }
 ],
 "metadata": {
  "kernelspec": {
   "display_name": "Python 3",
   "language": "python",
   "name": "python3"
  },
  "language_info": {
   "codemirror_mode": {
    "name": "ipython",
    "version": 3
   },
   "file_extension": ".py",
   "mimetype": "text/x-python",
   "name": "python",
   "nbconvert_exporter": "python",
   "pygments_lexer": "ipython3",
   "version": "3.8.5"
  }
 },
 "nbformat": 4,
 "nbformat_minor": 4
}
