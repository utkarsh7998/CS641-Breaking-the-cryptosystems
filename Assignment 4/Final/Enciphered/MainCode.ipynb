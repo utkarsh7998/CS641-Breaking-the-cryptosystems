{
 "cells": [
  {
   "cell_type": "code",
   "execution_count": 38,
   "metadata": {},
   "outputs": [],
   "source": [
    "import operator"
   ]
  },
  {
   "cell_type": "code",
   "execution_count": 39,
   "metadata": {},
   "outputs": [],
   "source": [
    "# Hexadecimal to binary conversion \n",
    "def hex2bin(s): \n",
    "    mp = {'0' : \"0000\",  \n",
    "          '1' : \"0001\", \n",
    "          '2' : \"0010\",  \n",
    "          '3' : \"0011\", \n",
    "          '4' : \"0100\", \n",
    "          '5' : \"0101\",  \n",
    "          '6' : \"0110\", \n",
    "          '7' : \"0111\",  \n",
    "          '8' : \"1000\", \n",
    "          '9' : \"1001\",  \n",
    "          'A' : \"1010\", \n",
    "          'B' : \"1011\",  \n",
    "          'C' : \"1100\", \n",
    "          'D' : \"1101\",  \n",
    "          'E' : \"1110\", \n",
    "          'F' : \"1111\" } \n",
    "    bin = \"\"\n",
    "    n1 = len(s)\n",
    "    for i in range(0,n1): \n",
    "        bin+=mp[s[i]] \n",
    "    return bin\n",
    "      \n",
    "# Binary to hexadecimal conversion \n",
    "def bin2hex(s): \n",
    "    mp = {\"0000\" : '0',  \n",
    "          \"0001\" : '1', \n",
    "          \"0010\" : '2',  \n",
    "          \"0011\" : '3', \n",
    "          \"0100\" : '4', \n",
    "          \"0101\" : '5',  \n",
    "          \"0110\" : '6', \n",
    "          \"0111\" : '7',  \n",
    "          \"1000\" : '8', \n",
    "          \"1001\" : '9',  \n",
    "          \"1010\" : 'A', \n",
    "          \"1011\" : 'B',  \n",
    "          \"1100\" : 'C', \n",
    "          \"1101\" : 'D',  \n",
    "          \"1110\" : 'E', \n",
    "          \"1111\" : 'F' } \n",
    "    hex = \"\" \n",
    "    n1= len(s)\n",
    "    for i in range(0,n1,4): \n",
    "        ch = \"\" \n",
    "        ch = ch + s[i] \n",
    "        ch = ch + s[i + 1]  \n",
    "        ch = ch + s[i + 2]  \n",
    "        ch = ch + s[i + 3]  \n",
    "        hex+=mp[ch] \n",
    "          \n",
    "    return hex\n",
    "  \n",
    "# Binary to decimal conversion \n",
    "def bin2dec(binary):  \n",
    "        \n",
    "    binary1 = binary  \n",
    "    decimal, i, n = 0, 0, 0\n",
    "    while(binary != 0):  \n",
    "        dec = binary % 10\n",
    "        decimal = decimal + dec * pow(2, i)  \n",
    "        binary = binary//10\n",
    "        i += 1\n",
    "    return decimal \n",
    "  \n",
    "# Decimal to binary conversion \n",
    "def dec2bin(num):  \n",
    "    res = bin(num).replace(\"0b\", \"\") \n",
    "    if(len(res)%4 != 0): \n",
    "        div = len(res) / 4\n",
    "        div = int(div) \n",
    "        counter =(4 * (div + 1)) - len(res)  \n",
    "        for i in range(0, counter): \n",
    "            res = '0' + res \n",
    "    return res \n",
    "  \n",
    "# Permute function to rearrange the bits \n",
    "def permute(k, arr, n): \n",
    "    permutation = \"\" \n",
    "    for i in range(0, n): \n",
    "        permutation = permutation + k[arr[i] - 1] \n",
    "    return permutation \n",
    "  \n",
    "# shifting the bits towards left by nth shifts \n",
    "def shift_left(k, nth_shifts): \n",
    "    s = \"\" \n",
    "    for i in range(nth_shifts):\n",
    "        n2 = len(k)\n",
    "        for j in range(1,n2): \n",
    "            s+= k[j] \n",
    "        s+= k[0] \n",
    "        k = s \n",
    "        s = \"\"  \n",
    "    return k     \n",
    "  \n",
    "# calculating xor of two strings of binary number a and b \n",
    "def xor(a, b): \n",
    "    ans = \"\"\n",
    "    n2 = len(a)\n",
    "    for i in range(0,n2): \n",
    "        if a[i] == b[i]: \n",
    "            ans+=\"0\"\n",
    "        else: \n",
    "            ans+=\"1\"\n",
    "    return ans \n",
    "\n",
    "#\n",
    "#Permutation matrix 1 for key schedule\n",
    "pc1=[                  \n",
    "  57, 49, 41, 33, 25, 17, 9,\n",
    "  1, 58, 50, 42, 34, 26, 18,\n",
    "  10,  2, 59, 51, 43, 35, 27,\n",
    "  19, 11,  3, 60, 52, 44, 36,\n",
    "  63, 55, 47, 39, 31, 23, 15, \n",
    "  7, 62, 54, 46, 38, 30, 22, \n",
    "  14,  6, 61, 53, 45, 37, 29, \n",
    "  21, 13,  5, 28, 20, 12,  4\n",
    "]\n",
    "#Permutation matrix 2 for key schedule\n",
    "pc2 = [                 \n",
    "  14, 17, 11, 24,  1, 5, \n",
    "  3, 28 ,15,  6, 21, 10, \n",
    "  23, 19, 12,  4, 26, 8, \n",
    "  16,  7, 27, 20, 13, 2, \n",
    "  41, 52, 31, 37, 47, 55, \n",
    "  30, 40, 51, 45, 33, 48, \n",
    "  44, 49, 39, 56, 34, 53, \n",
    "  46, 42, 50, 36, 29, 32\n",
    "]\n",
    "#Inverse of P\n",
    "INV_P = [9, 17, 23, 31,\n",
    "\t      13, 28,  2, 18,\n",
    "\t      24, 16, 30,  6,\n",
    "\t      26, 20, 10,  1,\n",
    "\t       8, 14, 25,  3,\n",
    "\t       4, 29, 11, 19,\n",
    "\t      32, 12, 22,  7,\n",
    "\t       5, 27, 15, 21\n",
    "         ]\n",
    "# Table of Position of 64 bits at initail level: Initial Permutation Table \n",
    "initial_perm = [58, 50, 42, 34, 26, 18, 10, 2,  \n",
    "                60, 52, 44, 36, 28, 20, 12, 4,  \n",
    "                62, 54, 46, 38, 30, 22, 14, 6,  \n",
    "                64, 56, 48, 40, 32, 24, 16, 8,  \n",
    "                57, 49, 41, 33, 25, 17, 9, 1,  \n",
    "                59, 51, 43, 35, 27, 19, 11, 3,  \n",
    "                61, 53, 45, 37, 29, 21, 13, 5,  \n",
    "                63, 55, 47, 39, 31, 23, 15, 7]  \n",
    "  \n",
    "# Expansion E-box Table \n",
    "exp_d = [32, 1 , 2 , 3 , 4 , 5 , 4 , 5,  \n",
    "         6 , 7 , 8 , 9 , 8 , 9 , 10, 11,  \n",
    "         12, 13, 12, 13, 14, 15, 16, 17,  \n",
    "         16, 17, 18, 19, 20, 21, 20, 21,  \n",
    "         22, 23, 24, 25, 24, 25, 26, 27,  \n",
    "         28, 29, 28, 29, 30, 31, 32, 1 ] \n",
    "  \n",
    "# Straight Permutaion Table \n",
    "per = [ 16,  7, 20, 21, \n",
    "        29, 12, 28, 17,  \n",
    "         1, 15, 23, 26,  \n",
    "         5, 18, 31, 10,  \n",
    "         2,  8, 24, 14,  \n",
    "        32, 27,  3,  9,  \n",
    "        19, 13, 30,  6,  \n",
    "        22, 11,  4, 25 ] \n",
    "  \n",
    "# S-box Table \n",
    "sbox = [[[14, 4, 13, 1, 2, 15, 11, 8, 3 , 10, 6, 12, 5, 9, 0, 7],\n",
    "    [0, 15, 7, 4, 14, 2, 13, 1, 10, 6, 12, 11, 9, 5, 3, 8],\n",
    "    [4, 1 , 14, 8, 13, 6, 2, 11, 15, 12, 9, 7,3, 10, 5, 0],\n",
    "    [15, 12, 8,2,4, 9, 1,7 , 5, 11, 3, 14, 10, 0, 6, 13]],\n",
    "\n",
    "    [[15, 1, 8, 14, 6, 11, 3, 4, 9, 7, 2, 13, 12, 0,5, 10],\n",
    "    [3, 13, 4, 7, 15, 2, 8, 14, 12, 0, 1, 10, 6, 9, 11, 5],\n",
    "    [0, 14, 7, 11, 10, 4, 13, 1, 5, 8,12, 6, 9, 3, 2, 15],\n",
    "    [13, 8, 10, 1, 3, 15, 4, 2,11,6, 7, 12, 0,5, 14, 9]],\n",
    "\n",
    "    [[10, 0, 9,14,6,3,15,5, 1, 13, 12, 7, 11, 4,2,8],\n",
    "    [13, 7, 0, 9, 3, 4, 6, 10, 2, 8, 5, 14, 12, 11, 15, 1],\n",
    "    [13, 6, 4, 9, 8, 15, 3, 0, 11, 1, 2, 12,5, 10, 14, 7],\n",
    "    [1, 10, 13, 0, 6, 9, 8, 7, 4, 15, 14, 3, 11, 5, 2, 12]],\n",
    "\n",
    "    [[7, 13, 14, 3, 0, 6, 9, 10, 1, 2, 8, 5, 11, 12, 4, 15],\n",
    "    [13, 8, 11, 5, 6, 15, 0, 3, 4, 7, 2, 12, 1, 10, 14, 9],\n",
    "    [10, 6, 9, 0, 12, 11, 7, 13, 15, 1 , 3, 14, 5, 2, 8, 4],\n",
    "    [3, 15, 0, 6, 10, 1, 13, 8, 9, 4, 5, 11, 12, 7, 2, 14]],\n",
    "\n",
    "    [[2, 12, 4, 1, 7, 10, 11, 6, 8, 5, 3, 15, 13, 0, 14, 9],\n",
    "    [14, 11,2, 12, 4, 7, 13, 1, 5, 0, 15, 10, 3, 9, 8, 6],\n",
    "    [4, 2, 1, 11, 10, 13, 7, 8, 15, 9, 12, 5, 6, 3, 0, 14],\n",
    "    [11, 8, 12, 7, 1, 14, 2, 13, 6, 15, 0, 9, 10, 4, 5, 3]],\n",
    "\n",
    "    [[12, 1, 10, 15, 9, 2, 6,8, 0, 13, 3, 4, 14, 7, 5, 11],\n",
    "    [10, 15, 4, 2, 7, 12, 9, 5, 6, 1, 13, 14, 0, 11, 3, 8],\n",
    "    [9, 14, 15, 5, 2,8, 12, 3, 7, 0, 4, 10, 1, 13, 11, 6],\n",
    "    [4, 3, 2, 12, 9, 5, 15, 10, 11, 14, 1, 7, 6, 0, 8, 13]],\n",
    "\n",
    "    [[4, 11, 2, 14, 15, 0, 8, 13, 3, 12, 9, 7, 5, 10, 6, 1],\n",
    "    [13, 0, 11, 7, 4, 9, 1, 10, 14, 3, 5, 12, 2, 15, 8, 6],\n",
    "    [1, 4, 11, 13, 12, 3, 7, 14, 10, 15, 6, 8, 0, 5, 9, 2],\n",
    "    [6, 11, 13, 8, 1, 4, 10, 7, 9, 5, 0, 15, 14, 2, 3, 12]],\n",
    "\n",
    "    [[13, 2, 8, 4, 6, 15, 11, 1, 10, 9, 3, 14, 5, 0, 12,7],\n",
    "    [1, 15, 13, 8, 10, 3, 7, 4, 12, 5, 6, 11, 0, 14, 9, 2],\n",
    "    [7, 11, 4, 1, 9, 12, 14, 2, 0, 6, 10, 13, 15, 3, 5, 8],\n",
    "    [2, 1, 14, 7, 4, 10, 8, 13, 15, 12, 9, 0, 3, 5, 6, 11]]] \n",
    "    \n",
    "\n",
    "final_perm = [ 40, 8, 48, 16, 56, 24, 64, 32,  \n",
    "               39, 7, 47, 15, 55, 23, 63, 31,  \n",
    "               38, 6, 46, 14, 54, 22, 62, 30,  \n",
    "               37, 5, 45, 13, 53, 21, 61, 29,  \n",
    "               36, 4, 44, 12, 52, 20, 60, 28,  \n",
    "               35, 3, 43, 11, 51, 19, 59, 27,  \n",
    "               34, 2, 42, 10, 50, 18, 58, 26,  \n",
    "               33, 1, 41, 9, 49, 17, 57, 25 ] \n",
    "\n",
    "f2u_mapping={'d': '0000',\n",
    "             'e': '0001',\n",
    "             'f': '0010',\n",
    "             'g': '0011',\n",
    "             'h': '0100',\n",
    "             'i': '0101',\n",
    "             'j': '0110',\n",
    "             'k': '0111',\n",
    "             'l': '1000',\n",
    "             'm': '1001',\n",
    "             'n': '1010',\n",
    "             'o': '1011',\n",
    "             'p': '1100',\n",
    "             'q': '1101',\n",
    "             'r': '1110',\n",
    "             's': '1111'}\n",
    "     \n",
    "\n",
    "# --parity bit drop table \n",
    "keyp = [57, 49, 41, 33, 25, 17, 9,  \n",
    "        1, 58, 50, 42, 34, 26, 18,  \n",
    "        10, 2, 59, 51, 43, 35, 27,  \n",
    "        19, 11, 3, 60, 52, 44, 36,  \n",
    "        63, 55, 47, 39, 31, 23, 15,  \n",
    "        7, 62, 54, 46, 38, 30, 22,  \n",
    "        14, 6, 61, 53, 45, 37, 29,  \n",
    "        21, 13, 5, 28, 20, 12, 4 ] \n",
    "\n",
    "\n",
    "RFP = [57, 49, 41, 33, 25, 17, 9,  1,\n",
    "       59, 51, 43, 35, 27, 19, 11, 3,\n",
    "       61, 53, 45, 37, 29, 21, 13, 5,\n",
    "       63, 55, 47, 39, 31, 23, 15, 7,\n",
    "       58, 50, 42, 34, 26, 18, 10, 2,\n",
    "       60, 52, 44, 36, 28, 20, 12, 4,\n",
    "       62, 54, 46, 38, 30, 22, 14, 6,\n",
    "       64, 56, 48, 40, 32, 24, 16, 8]\n",
    "\n",
    "#shift table \n",
    "shift_table = [1, 1, 2, 2,  \n",
    "                2, 2, 2, 2,  \n",
    "                1, 2, 2, 2,  \n",
    "                2, 2, 2, 1 ] \n",
    "  \n",
    "# Key- Compression Table : Compression of key from 56 bits to 48 bits \n",
    "key_comp = [14, 17, 11, 24, 1, 5,  \n",
    "            3, 28, 15, 6, 21, 10,  \n",
    "            23, 19, 12, 4, 26, 8,  \n",
    "            16, 7, 27, 20, 13, 2,  \n",
    "            41, 52, 31, 37, 47, 55,  \n",
    "            30, 40, 51, 45, 33, 48,  \n",
    "            44, 49, 39, 56, 34, 53,  \n",
    "            46, 42, 50, 36, 29, 32 ] \n",
    "  "
   ]
  },
  {
   "cell_type": "markdown",
   "metadata": {},
   "source": [
    "## Computing XORs at IN and OUT of S-boxes for characteristic 1"
   ]
  },
  {
   "cell_type": "code",
   "execution_count": 40,
   "metadata": {},
   "outputs": [],
   "source": [
    "import numpy as np"
   ]
  },
  {
   "cell_type": "code",
   "execution_count": 41,
   "metadata": {},
   "outputs": [],
   "source": [
    "#create hex mapping of 16 letters present in ciphertext. f=0, g=1 ,so on...\n",
    "mapping = {\n",
    "           'd' : [0,0,0,0],\n",
    "           'e' : [0,0,0,1],\n",
    "           'f' : [0,0,1,0],\n",
    "           'g' : [0,0,1,1],\n",
    "           'h' : [0,1,0,0],\n",
    "           'i' : [0,1,0,1],\n",
    "           'j' : [0,1,1,0],\n",
    "           'k' : [0,1,1,1],\n",
    "           'l' : [1,0,0,0],\n",
    "           'm' : [1,0,0,1],\n",
    "           'n' : [1,0,1,0],\n",
    "           'o' : [1,0,1,1],\n",
    "           'p' : [1,1,0,0],\n",
    "           'q' : [1,1,0,1],\n",
    "           'r' : [1,1,1,0],\n",
    "           's' : [1,1,1,1]\n",
    "           }"
   ]
  },
  {
   "cell_type": "code",
   "execution_count": 42,
   "metadata": {},
   "outputs": [],
   "source": [
    "#list of all ciphertexts in hex as per mapping\n",
    "cipher=[]\n",
    "#read in the output file after encrypting plaintexts from input.txt\n",
    "lines = open(\"ciphertexts1.txt\").read().split(\"\\n\")\n",
    "\n",
    "n=len(lines)\n",
    "for i in range(0,n):\n",
    "  #checking if a ciphertext is not of 16 letters\n",
    "    if(len(lines[i]) == 16):\n",
    "        #temp list\n",
    "        st=[]\n",
    "        for j in range(16):\n",
    "            st+=mapping[lines[i][j]]\n",
    "        cipher+=[st]    \n",
    "#print(cipher[0])"
   ]
  },
  {
   "cell_type": "code",
   "execution_count": 43,
   "metadata": {},
   "outputs": [],
   "source": [
    "#applying inverse final permutation on each 64 (=16*4) bit ciphertext\n",
    "n=len(cipher)\n",
    "ifp_res = []\n",
    "for i in range(0,n):\n",
    "    ifp_res2 = []\n",
    "    for j in range(64):\n",
    "        ifp_res2+=[cipher[i][RFP[j]-1]]\n",
    "    ifp_res+=[ifp_res2]\n",
    "#print(ifp_res2[0:10])"
   ]
  },
  {
   "cell_type": "code",
   "execution_count": 44,
   "metadata": {},
   "outputs": [],
   "source": [
    "#XOR of inverse permuted ciphertext's result\n",
    "ifp_XOR=[]\n",
    "for i in range(0,n//2):\n",
    "    ifp_XOR+= [list(np.bitwise_xor(ifp_res[2*i+1],ifp_res[2*i]))]"
   ]
  },
  {
   "cell_type": "code",
   "execution_count": 45,
   "metadata": {},
   "outputs": [],
   "source": [
    "#Expansion of R5\n",
    "exp_out=[]\n",
    "for i in range(0,n):\n",
    "    exp_out2=[]\n",
    "    for j in range(0,48):\n",
    "        exp_out2+=[ifp_res[i][exp_d[j]-1]]\n",
    "    exp_out+=[exp_out2]\n",
    "#print(exp_out[0])"
   ]
  },
  {
   "cell_type": "code",
   "execution_count": 46,
   "metadata": {},
   "outputs": [],
   "source": [
    "#XOR of expanded outputs to find inputs to s-boxes\n",
    "sbox_in=[]\n",
    "for i in range(0,n//2):\n",
    "    sbox_in+= [list(np.bitwise_xor(exp_out[2*i+1],exp_out[2*i]))]\n",
    "#print(sbox_in[0])            "
   ]
  },
  {
   "cell_type": "code",
   "execution_count": 47,
   "metadata": {},
   "outputs": [],
   "source": [
    "#XOR of L5 and R6 from inverse permuted ciphertexts\n",
    "L5 = [0,0,0,0,0,1]+[0]*26\n",
    "xor_out=[]\n",
    "for i in range(0,len(ifp_XOR)):\n",
    "    xor_out+=[list(np.bitwise_xor(ifp_XOR[i][32:64],L5))]"
   ]
  },
  {
   "cell_type": "code",
   "execution_count": 48,
   "metadata": {},
   "outputs": [],
   "source": [
    "#XOR of outputs after s-boxes\n",
    "sbox_out = []\n",
    "for i in range(0,len(xor_out)):\n",
    "    sbox_out2=[]\n",
    "    for j in range(0,32):\n",
    "        sbox_out2+=[xor_out[i][INV_P[j]-1]]\n",
    "    sbox_out+=[sbox_out2]"
   ]
  },
  {
   "cell_type": "code",
   "execution_count": 49,
   "metadata": {},
   "outputs": [],
   "source": [
    "#storing expanded outputs\n",
    "with open(\"exp_out1.txt\",\"w\") as f:\n",
    "    n1 = len(exp_out)\n",
    "    for i in range(0,n1):\n",
    "        if(i%2!=1):\n",
    "            temp=\"\"\n",
    "            for j in exp_out[i]:\n",
    "                temp+=str(j)\n",
    "            f.write(temp+\"\\n\")\n",
    "f.close()"
   ]
  },
  {
   "cell_type": "code",
   "execution_count": 50,
   "metadata": {},
   "outputs": [],
   "source": [
    "#storing inputs to s-boxes\n",
    "with open(\"sbox_in1.txt\",\"w\") as f:\n",
    "    for i in sbox_in:\n",
    "        temp=\"\"\n",
    "        for j in i:\n",
    "            temp+=str(j)\n",
    "        f.write(temp+\"\\n\")\n",
    "f.close()"
   ]
  },
  {
   "cell_type": "code",
   "execution_count": 51,
   "metadata": {},
   "outputs": [],
   "source": [
    "#storing outputs of s-boxes\n",
    "with open(\"sbox_out1.txt\",\"w\") as f:\n",
    "    for i in sbox_out:\n",
    "        temp=\"\"\n",
    "        for j in i:\n",
    "            temp+=str(j)\n",
    "        f.write(temp+\"\\n\")\n",
    "f.close()"
   ]
  },
  {
   "cell_type": "markdown",
   "metadata": {},
   "source": [
    "## Finding the Keys for S-Boxes of Round 6 for characteristic 1"
   ]
  },
  {
   "cell_type": "code",
   "execution_count": 52,
   "metadata": {},
   "outputs": [],
   "source": [
    "Keys = np.zeros((8,64))"
   ]
  },
  {
   "cell_type": "code",
   "execution_count": 53,
   "metadata": {},
   "outputs": [],
   "source": [
    "sbox_in=[]\n",
    "sbox_out=[]\n",
    "exp_out=[]\n",
    "sbox_in = open(\"sbox_in1.txt\").read().split(\"\\n\")\n",
    "sbox_out = open(\"sbox_out1.txt\").read().split(\"\\n\")\n",
    "exp_out = open(\"exp_out1.txt\").read().split(\"\\n\")"
   ]
  },
  {
   "cell_type": "code",
   "execution_count": 54,
   "metadata": {},
   "outputs": [],
   "source": [
    "for i in range(len(sbox_in)):\n",
    "    if sbox_in[i]==\"\":\n",
    "        continue     \n",
    "    for j in range(0,8):\n",
    "        inx = int(sbox_in[i][j*6:j*6+6], 2)\n",
    "        outx = int(sbox_out[i][j*4:j*4+4], 2)\n",
    "        inp_orig = int(exp_out[i][j*6:j*6+6], 2)\n",
    "        for k in range(0,64):\n",
    "            a = bin(k)[2:].zfill(6)\n",
    "            b = bin(k^inx)[2:].zfill(6)  \n",
    "            if outx == sbox[j][int(a[0])*2 + int(a[5])][int(a[4]) + 2 *int(a[3]) + int(a[2]) * 4 + int(a[1])*8]^sbox[j][int(b[0])*2 + int(b[5])][int(b[4]) + 2 *int(b[3]) + int(b[2]) * 4 + int(b[1])*8]:\n",
    "                key_cand = k^inp_orig\n",
    "                Keys[j][key_cand] = Keys[j][key_cand] + 1"
   ]
  },
  {
   "cell_type": "code",
   "execution_count": 55,
   "metadata": {
    "scrolled": false
   },
   "outputs": [
    {
     "name": "stdout",
     "output_type": "stream",
     "text": [
      "[[ 59.  56.  75.  66.  64.  52.  50.  53.  71.  60.  73.  67.  68.  62.\n",
      "   64.  67.  67.  75.  65.  66.  68.  75.  56.  63.  78.  74.  70.  68.\n",
      "   64.  53.  58.  68.  53.  64.  67.  67.  79.  59.  66.  70.  57.  54.\n",
      "   59.  66.  74. 129.  65.  59.  66.  68.  58.  70.  62.  63.  62.  74.\n",
      "   67.  66.  65.  75.  68.  71.  76.  58.]\n",
      " [ 85.  80.  63.  92.  65.  87.  67.  65.  68.  66.  72.  68.  96.  69.\n",
      "   76.  69.  63.  65.  62.  84.  53.  84.  81.  61.  62.  66.  75.  81.\n",
      "   60.  67.  80.  66.  79.  68.  71.  86.  69.  68.  69.  67.  74.  58.\n",
      "   63.  66.  72.  76.  74.  81.  75.  64.  76. 298.  65.  70.  73.  71.\n",
      "   64.  59.  60.  67.  71.  61.  70.  79.]\n",
      " [ 67.  65.  66.  61.  62.  55.  57.  63.  82.  71.  59.  56.  68.  60.\n",
      "   55.  63.  69.  68.  69.  51.  71.  56.  63.  66.  73.  72.  57.  56.\n",
      "   66.  55.  58.  54.  69.  50.  56.  61.  72. 124.  43.  63.  50.  53.\n",
      "   51.  61.  68.  63.  69.  64.  60.  60.  63.  71.  72.  55.  65.  60.\n",
      "   59.  62.  57.  53.  78.  64.  65.  57.]\n",
      " [ 53.  57.  66.  64.  63.  63.  65. 100.  61.  65.  69.  61.  70.  55.\n",
      "   72.  66.  64.  63.  57.  81.  60.  66.  79.  62.  70.  52.  56.  65.\n",
      "   56.  63.  59.  45.  60.  62.  64.  57.  57.  62.  66.  52.  79.  87.\n",
      "   64.  66.  63.  77.  62.  59.  60.  60.  66.  67.  57.  65.  56.  60.\n",
      "   70.  69.  56.  68.  60.  62.  56.  51.]\n",
      " [ 73.  68.  67.  72.  61.  77.  55.  70.  71.  72.  74.  59.  69.  76.\n",
      "   77.  73.  65.  69.  64.  70.  67.  74.  62.  78.  80.  82.  56.  70.\n",
      "   88.  71.  76.  73.  81.  74.  64.  70.  64.  70.  83.  76.  83.  70.\n",
      "   77.  62.  79.  75.  87.  65.  71.  78.  64.  74.  65.  75. 165.  68.\n",
      "   79.  67.  65.  71.  71.  72.  76.  54.]\n",
      " [ 67.  67.  69.  67.  71.  53.  67.  63.  65.  66.  64.  70.  89.  82.\n",
      "   78.  72.  72.  88.  74.  68.  73.  76.  74.  69.  63.  67.  83.  69.\n",
      "   85.  75.  75.  71.  55.  76.  74.  85.  76.  90.  65.  61.  92. 292.\n",
      "   64.  76.  67.  67.  75.  71.  78.  71.  67.  80.  69.  88.  67.  65.\n",
      "   87.  88.  81.  68.  77.  77.  64.  85.]\n",
      " [ 65.  59.  72.  66.  79.  58.  62.  76.  69.  64.  74.  54.  68.  63.\n",
      "   67.  52.  89.  70.  78.  74.  79.  61.  72.  65.  70.  76.  62.  74.\n",
      "  187.  72.  82.  68.  80.  69.  72.  60.  76.  58.  73.  64.  56.  74.\n",
      "   68.  60.  71.  57.  49.  66.  80.  73.  70.  69.  56.  81.  65.  72.\n",
      "   68.  86.  58.  69.  63.  62.  75.  63.]\n",
      " [ 65.  62.  61.  72.  69.  56.  71.  66.  76.  68.  60.  74.  59.  69.\n",
      "   80.  51.  72.  64.  77.  56.  76.  56.  79.  84.  76.  73.  65.  66.\n",
      "   63.  73.  71.  79.  79.  77.  70.  85.  67.  67.  57.  67.  71.  64.\n",
      "   56.  79.  78.  75.  77.  63.  72.  77.  71.  63.  63.  64.  92. 182.\n",
      "   59.  71.  68.  45.  59.  72.  69.  82.]]\n"
     ]
    }
   ],
   "source": [
    "print(Keys)"
   ]
  },
  {
   "cell_type": "code",
   "execution_count": 56,
   "metadata": {},
   "outputs": [
    {
     "name": "stdout",
     "output_type": "stream",
     "text": [
      "S-box\tMax\tMean\tKey\tDiff\n",
      "S1\t129\t66\t45\t63\n",
      "S2\t298\t74\t51\t224\n",
      "S3\t124\t63\t37\t61\n",
      "S4\t100\t64\t7\t36\n",
      "S5\t165\t73\t54\t92\n",
      "S6\t292\t76\t41\t216\n",
      "S7\t187\t70\t28\t117\n",
      "S8\t182\t71\t55\t111\n"
     ]
    }
   ],
   "source": [
    "maxval = []\n",
    "mean = []\n",
    "keyval = []\n",
    "for i in Keys:\n",
    "    index, value = max(enumerate(i), key=operator.itemgetter(1))\n",
    "    maxval+=[int(value)]\n",
    "    keyval+=[index]\n",
    "    mean+=[int(round(np.mean(i)))]\n",
    "print(\"S-box\"+ \"\\t\" +\"Max\" + \"\\t\" + \"Mean\" + \"\\t\" + \"Key\" + \"\\t\" + \"Diff\")\n",
    "for i in range(0,8):\n",
    "    print(\"S\"+ str(i+1) +\"\\t\"+ str(maxval[i]) + \"\\t\" + str(mean[i]) + \"\\t\" + str(keyval[i]) + \"\\t\" + str(maxval[i]-mean[i]))"
   ]
  },
  {
   "cell_type": "markdown",
   "metadata": {},
   "source": [
    "## Computing XORs at IN and OUT of S-boxes for characteristic 2"
   ]
  },
  {
   "cell_type": "code",
   "execution_count": 57,
   "metadata": {},
   "outputs": [],
   "source": [
    "#list of all ciphertexts in hex as per mapping\n",
    "cipher=[]\n",
    "#read in the output file after encrypting plaintexts from input.txt\n",
    "lines = open(\"ciphertexts2.txt\").read().split(\"\\n\")\n",
    "\n",
    "n=len(lines)\n",
    "for i in range(0,n):\n",
    "  #checking if a ciphertext is not of 16 letters\n",
    "    if(len(lines[i]) == 16):\n",
    "        #temp list\n",
    "        st=[]\n",
    "        for j in range(16):\n",
    "            st+=mapping[lines[i][j]]\n",
    "        cipher+=[st]    \n",
    "#print(cipher[0])"
   ]
  },
  {
   "cell_type": "code",
   "execution_count": 58,
   "metadata": {},
   "outputs": [],
   "source": [
    "#applying inverse final permutation on each 64 (=16*4) bit ciphertext\n",
    "n=len(cipher)\n",
    "ifp_res = []\n",
    "for i in range(0,n):\n",
    "    ifp_res2 = []\n",
    "    for j in range(64):\n",
    "        ifp_res2+=[cipher[i][RFP[j]-1]]\n",
    "    ifp_res+=[ifp_res2]\n",
    "#print(ifp_res2[0:10])"
   ]
  },
  {
   "cell_type": "code",
   "execution_count": 59,
   "metadata": {},
   "outputs": [],
   "source": [
    "#XOR of inverse permuted ciphertext's result\n",
    "ifp_XOR=[]\n",
    "for i in range(0,n//2):\n",
    "    ifp_XOR+= [list(np.bitwise_xor(ifp_res[2*i+1],ifp_res[2*i]))]"
   ]
  },
  {
   "cell_type": "code",
   "execution_count": 60,
   "metadata": {},
   "outputs": [],
   "source": [
    "#Expansion of R5\n",
    "exp_out=[]\n",
    "for i in range(0,n):\n",
    "    exp_out2=[]\n",
    "    for j in range(0,48):\n",
    "        exp_out2+=[ifp_res[i][exp_d[j]-1]]\n",
    "    exp_out+=[exp_out2]\n",
    "#print(exp_out[0])"
   ]
  },
  {
   "cell_type": "code",
   "execution_count": 61,
   "metadata": {},
   "outputs": [],
   "source": [
    "#XOR of expanded outputs to find inputs to s-boxes\n",
    "sbox_in=[]\n",
    "for i in range(0,n//2):\n",
    "    sbox_in+= [list(np.bitwise_xor(exp_out[2*i+1],exp_out[2*i]))]\n",
    "#print(sbox_in[0])            "
   ]
  },
  {
   "cell_type": "code",
   "execution_count": 62,
   "metadata": {},
   "outputs": [],
   "source": [
    "#XOR of L5 and R6 from inverse permuted ciphertexts\n",
    "L5 = [0,0,0,0,0,0,0,0,0,0,0,0,0,0,0,0,0,0,0,0,0,1,0,0,0,0,0,0,0,0,0,0]\n",
    "# print(len(L5))\n",
    "xor_out=[]\n",
    "for i in range(0,len(ifp_XOR)):\n",
    "    xor_out+=[list(np.bitwise_xor(ifp_XOR[i][32:64],L5))]"
   ]
  },
  {
   "cell_type": "code",
   "execution_count": 63,
   "metadata": {},
   "outputs": [],
   "source": [
    "#XOR of outputs after s-boxes\n",
    "sbox_out = []\n",
    "for i in range(0,len(xor_out)):\n",
    "    sbox_out2=[]\n",
    "    for j in range(0,32):\n",
    "        sbox_out2+=[xor_out[i][INV_P[j]-1]]\n",
    "    sbox_out+=[sbox_out2]"
   ]
  },
  {
   "cell_type": "code",
   "execution_count": 64,
   "metadata": {},
   "outputs": [],
   "source": [
    "#storing expanded outputs\n",
    "with open(\"exp_out2.txt\",\"w\") as f:\n",
    "    n1 = len(exp_out)\n",
    "    for i in range(0,n1):\n",
    "        if(i%2!=1):\n",
    "            temp=\"\"\n",
    "            for j in exp_out[i]:\n",
    "                temp+=str(j)\n",
    "            f.write(temp+\"\\n\")\n",
    "f.close()"
   ]
  },
  {
   "cell_type": "code",
   "execution_count": 65,
   "metadata": {},
   "outputs": [],
   "source": [
    "#storing inputs to s-boxes\n",
    "with open(\"sbox_in2.txt\",\"w\") as f:\n",
    "    for i in sbox_in:\n",
    "        temp=\"\"\n",
    "        for j in i:\n",
    "            temp+=str(j)\n",
    "        f.write(temp+\"\\n\")\n",
    "f.close()"
   ]
  },
  {
   "cell_type": "code",
   "execution_count": 66,
   "metadata": {},
   "outputs": [],
   "source": [
    "#storing outputs of s-boxes\n",
    "with open(\"sbox_out2.txt\",\"w\") as f:\n",
    "    for i in sbox_out:\n",
    "        temp=\"\"\n",
    "        for j in i:\n",
    "            temp+=str(j)\n",
    "        f.write(temp+\"\\n\")\n",
    "f.close()"
   ]
  },
  {
   "cell_type": "markdown",
   "metadata": {},
   "source": [
    "## Finding the Keys for S-Boxes of Round 6 for characteristic 2"
   ]
  },
  {
   "cell_type": "code",
   "execution_count": 67,
   "metadata": {},
   "outputs": [],
   "source": [
    "Keys = np.zeros((8,64))"
   ]
  },
  {
   "cell_type": "code",
   "execution_count": 68,
   "metadata": {},
   "outputs": [],
   "source": [
    "sbox_in=[]\n",
    "sbox_out=[]\n",
    "exp_out=[]\n",
    "sbox_in = open(\"sbox_in2.txt\").read().split(\"\\n\")\n",
    "sbox_out = open(\"sbox_out2.txt\").read().split(\"\\n\")\n",
    "exp_out = open(\"exp_out2.txt\").read().split(\"\\n\")"
   ]
  },
  {
   "cell_type": "code",
   "execution_count": 69,
   "metadata": {},
   "outputs": [],
   "source": [
    "for i in range(len(sbox_in)):\n",
    "    if sbox_in[i]==\"\":\n",
    "        continue     \n",
    "    for j in range(0,8):\n",
    "        inx = int(sbox_in[i][j*6:j*6+6], 2)\n",
    "        outx = int(sbox_out[i][j*4:j*4+4], 2)\n",
    "        inp_orig = int(exp_out[i][j*6:j*6+6], 2)\n",
    "        for k in range(0,64):\n",
    "            a = bin(k)[2:].zfill(6)\n",
    "            b = bin(k^inx)[2:].zfill(6)  \n",
    "            if outx == sbox[j][int(a[0])*2 + int(a[5])][int(a[4]) + 2 *int(a[3]) + int(a[2]) * 4 + int(a[1])*8]^sbox[j][int(b[0])*2 + int(b[5])][int(b[4]) + 2 *int(b[3]) + int(b[2]) * 4 + int(b[1])*8]:\n",
    "                key_cand = k^inp_orig\n",
    "                Keys[j][key_cand] = Keys[j][key_cand] + 1"
   ]
  },
  {
   "cell_type": "code",
   "execution_count": 70,
   "metadata": {
    "scrolled": false
   },
   "outputs": [
    {
     "name": "stdout",
     "output_type": "stream",
     "text": [
      "[[ 64.  62.  77.  83.  61.  84.  78.  79.  61.  93.  70.  66.  65.  69.\n",
      "   79.  79.  66.  73.  78.  62.  70.  61.  83.  73.  73.  87.  80.  86.\n",
      "   72.  71.  64.  80.  68.  77.  81.  83.  72.  73.  81.  66.  71.  67.\n",
      "   71.  72.  75. 173.  64.  72.  79.  67.  69.  67.  75.  62.  65.  86.\n",
      "   62.  71.  68.  74.  75.  88.  65.  68.]\n",
      " [ 78.  53.  72.  62.  57.  73.  81.  68.  62.  60.  63.  72.  64.  57.\n",
      "   84.  70.  61.  59.  70.  64.  55.  51.  60.  62.  55.  65.  75.  62.\n",
      "   63.  57.  77.  62.  62.  71.  76.  73.  65.  81.  68.  77.  65.  57.\n",
      "   71.  67.  59.  66.  69.  68.  57.  63.  66. 176.  76.  66.  66.  69.\n",
      "   56.  57.  64.  79.  65.  64.  59.  70.]\n",
      " [ 64.  67.  86.  84.  70.  70.  74.  71.  60.  64.  86.  72.  67.  80.\n",
      "   67.  68.  67.  75.  65.  59.  76.  78.  68.  78.  81.  81.  68.  79.\n",
      "   68.  82.  67.  61.  64.  65.  60.  79.  72. 136.  65.  75.  77.  63.\n",
      "   70.  56.  73.  78.  63.  74.  55.  51.  76.  77.  62.  75.  70.  73.\n",
      "   67.  78.  80.  68.  58.  76.  78.  65.]\n",
      " [ 89.  81.  73.  70.  71.  69. 102. 311.  65.  78.  54.  58.  87.  59.\n",
      "   69.  69.  75.  82.  76.  95.  84.  81.  75.  67.  90.  69.  72.  80.\n",
      "   57.  64.  57.  66.  74.  63.  72.  54.  54.  67.  73. 100. 116. 101.\n",
      "   69.  67.  74.  80.  82.  81.  65.  77.  63.  84.  72.  76.  69.  62.\n",
      "   79.  61.  70.  64.  92.  68.  59.  69.]\n",
      " [ 78.  82.  73.  63.  78.  73.  68.  61.  63.  65.  63.  74.  72.  52.\n",
      "   66.  70.  54.  61.  55.  57.  62.  72.  78.  65.  74.  49.  68.  66.\n",
      "   66.  70.  83.  70.  81.  84.  84.  78.  73.  66.  76.  71.  66.  72.\n",
      "   72.  66.  83.  81.  65.  75.  62.  74.  71.  64.  65.  49. 165.  70.\n",
      "   61.  66.  80.  84.  64.  74.  82.  73.]\n",
      " [ 67.  67.  92.  84.  60.  60.  69.  78.  66.  80.  64.  67.  78.  80.\n",
      "   78.  74.  67.  76.  81.  74.  71.  97.  75.  77.  77.  64.  62.  66.\n",
      "   67.  69. 102.  84.  72.  88.  80.  74.  74.  78.  67.  83.  99. 313.\n",
      "   73.  74.  75.  75.  86.  74.  66.  66.  73.  62.  85.  81.  64.  78.\n",
      "   75.  75.  92.  74.  78.  65.  72.  84.]\n",
      " [ 64.  76.  67.  57.  64.  81.  80.  72.  62.  70.  70.  77.  59.  58.\n",
      "   65.  68.  69.  70.  73.  65.  88.  61.  68.  66.  68.  56.  60.  71.\n",
      "  121.  60.  71.  70.  75.  69.  59.  55.  68.  68.  73.  72.  75.  78.\n",
      "   58.  68.  77.  82.  75.  59.  69.  58.  68.  73.  62.  58.  63.  58.\n",
      "   63.  71.  61.  75.  83.  63.  57.  60.]\n",
      " [ 68.  77.  67.  69.  68.  78.  63.  71.  65.  70.  58.  69.  61.  79.\n",
      "   70.  77.  68.  68.  61.  74.  59.  50.  55.  56.  61.  78.  62.  68.\n",
      "   63.  64.  67.  64.  68.  71.  68.  57.  73.  67.  65.  64.  65.  69.\n",
      "   62.  49.  65.  84.  77.  71.  67.  76.  78.  74.  76.  70.  76. 116.\n",
      "   67.  71.  61.  70.  64.  77.  70.  68.]]\n"
     ]
    }
   ],
   "source": [
    "print(Keys)"
   ]
  },
  {
   "cell_type": "code",
   "execution_count": 71,
   "metadata": {
    "scrolled": false
   },
   "outputs": [
    {
     "name": "stdout",
     "output_type": "stream",
     "text": [
      "S-box\tMax\tMean\tKey\tDiff\n",
      "S1\t173\t74\t45\t99\n",
      "S2\t176\t68\t51\t108\n",
      "S3\t136\t72\t37\t64\n",
      "S4\t311\t77\t7\t234\n",
      "S5\t165\t71\t54\t94\n",
      "S6\t313\t79\t41\t234\n",
      "S7\t121\t68\t28\t53\n",
      "S8\t116\t68\t55\t48\n"
     ]
    }
   ],
   "source": [
    "maxval = []\n",
    "mean = []\n",
    "keyval = []\n",
    "for i in Keys:\n",
    "    index, value = max(enumerate(i), key=operator.itemgetter(1))\n",
    "    maxval+=[int(value)]\n",
    "    keyval+=[index]\n",
    "    mean+=[int(round(np.mean(i)))]\n",
    "print(\"S-box\"+ \"\\t\" +\"Max\" + \"\\t\" + \"Mean\" + \"\\t\" + \"Key\" + \"\\t\" + \"Diff\")\n",
    "for i in range(0,8):\n",
    "    print(\"S\"+ str(i+1) +\"\\t\"+ str(maxval[i]) + \"\\t\" + str(mean[i]) + \"\\t\" + str(keyval[i]) + \"\\t\" + str(maxval[i]-mean[i]))"
   ]
  },
  {
   "cell_type": "code",
   "execution_count": null,
   "metadata": {},
   "outputs": [],
   "source": [
    "# 101101 110011 XXXXXX 000111 110110 101001 011100 110111"
   ]
  },
  {
   "cell_type": "markdown",
   "metadata": {},
   "source": [
    "## Finding the Master Key"
   ]
  },
  {
   "cell_type": "code",
   "execution_count": 72,
   "metadata": {},
   "outputs": [
    {
     "name": "stdout",
     "output_type": "stream",
     "text": [
      "X11XX1XX01011X100XX11X11000X1110110X01110100X11X1011X001\n"
     ]
    }
   ],
   "source": [
    "s_box_key=\"101101110011XXXXXX000111110110101001011100110111\" #Key obtained so far from S boxes\n",
    "Master_key=['X']*56\n",
    "\n",
    "for i in range(len(s_box_key)):\n",
    "    Master_key[pc2[i]-1]=s_box_key[i]             \n",
    "shifts=[1, 1, 2, 2, 2, 2, 2, 2, 1, 2, 2, 2, 2, 2, 2, 1]     \n",
    "for i in range(0,6):\n",
    "    for j in range(shifts[i]):\n",
    "        temp2=Master_key[27]\n",
    "        temp1=Master_key[55]\n",
    "        for k in range(27,0,-1):\n",
    "            Master_key[k]=Master_key[k-1]\n",
    "            Master_key[k+28]=Master_key[k+27]\n",
    "        Master_key[0]=temp2\n",
    "        Master_key[28]=temp1\n",
    "print(\"\".join(Master_key))\n"
   ]
  },
  {
   "cell_type": "code",
   "execution_count": null,
   "metadata": {},
   "outputs": [],
   "source": [
    "X 11 X X 1 X X 01011 X 100 X X 11 X 11000 X 1110110 X 01110100 X 11 X 1011 X 001"
   ]
  },
  {
   "cell_type": "markdown",
   "metadata": {},
   "source": [
    "## Generating all possible keys using the obtained Master Key"
   ]
  },
  {
   "cell_type": "code",
   "execution_count": 73,
   "metadata": {},
   "outputs": [],
   "source": [
    "#Master key X11XX1XX01011X100XX11X11000X1010010X11110000X11X1101X011\n",
    "possible=[]\n",
    "for i in range(0,2**14):\n",
    "    possible.append(str(i//8192%2)+'11'+str(i//4096%2)+str(i//2048%2)+'1' + str(i//1024%2)+ str(i//512%2)+'01011'+str(i//256%2)+'100'+str(i//128%2) + str(i//64%2)+'11'+str(i//32%2)+'11000' + str(i//16%2) + \"1110110\" + str(i//8%2)+'01110100' + str(i//4%2) + \"11\" + str(i//2%2) + '1011' + str(i%2) + \"001\" + '\\n')\n",
    "# print(len(possible))"
   ]
  },
  {
   "cell_type": "markdown",
   "metadata": {},
   "source": [
    "## Brute Force to find the Actual Key"
   ]
  },
  {
   "cell_type": "code",
   "execution_count": 74,
   "metadata": {},
   "outputs": [],
   "source": [
    "def generate_round_keys(k, ro):\n",
    "    l=k[0:28]     \n",
    "    r=k[28:56]  \n",
    "\n",
    "    #binary round keys\n",
    "    kb = []\n",
    "    #hex round keys\n",
    "    kh  = []\n",
    "    for i in range(0,ro): \n",
    "        #shift bits by n using shift table \n",
    "        l = shift_left(l, shift_table[i]) \n",
    "        r = shift_left(r, shift_table[i]) \n",
    "\n",
    "        #merge\n",
    "        mer=l+r \n",
    "\n",
    "        #compress key from 56 to 48 bits using key compression table\n",
    "        kb+=[permute(mer, key_comp, 48)] \n",
    "        kh+=[bin2hex(permute(mer, key_comp, 48))]\n",
    "    return kb"
   ]
  },
  {
   "cell_type": "code",
   "execution_count": 75,
   "metadata": {},
   "outputs": [],
   "source": [
    "def encrypt(pt, kb,ro):  \n",
    "    # Initial Permutation \n",
    "    pt = permute(pt, initial_perm, 64)\n",
    "      \n",
    "    #break into left and right half\n",
    "    l = pt[0:32] \n",
    "    r= pt[32:64] \n",
    "    for i in range(0,ro): \n",
    "        #expand 32 bits to 48 \n",
    "        r_exp = permute(r, exp_d, 48) \n",
    "          \n",
    "        #XOR ith roundkey and r_exp  \n",
    "        r_xor = xor(r_exp,kb[i]) \n",
    "\n",
    "        #substituting the value from s-box table by calculating row and column  \n",
    "        sbox_st = \"\" \n",
    "        for j in range(0,8): \n",
    "            row = bin2dec(int(r_xor[j*6] + r_xor[j*6+5])) \n",
    "            col = bin2dec(int(r_xor[j*6+1] + r_xor[j*6+2] + r_xor[j*6+3] + r_xor[j*6+4])) \n",
    "            value = sbox[j][row][col] \n",
    "            sbox_st = sbox_st+dec2bin(value) \n",
    "              \n",
    "        #rearrange bits   \n",
    "        sbox_st = permute(sbox_st, per, 32) \n",
    "          \n",
    "        #XOR left half and sbox_st \n",
    "        res= xor(l, sbox_st) \n",
    "        l = res        \n",
    "        if(i!=5): \n",
    "            temp = l\n",
    "            l = r\n",
    "            r = temp\n",
    "  \n",
    "    #merge\n",
    "    mer=l+r \n",
    "      \n",
    "    #rearrange bits to get ciphertext \n",
    "    ciphertext = permute(mer, final_perm, 64) \n",
    "    return ciphertext"
   ]
  },
  {
   "cell_type": "code",
   "execution_count": 76,
   "metadata": {},
   "outputs": [
    {
     "name": "stdout",
     "output_type": "stream",
     "text": [
      "The Key is: 01101110010111100111101100001110110001110100111010111001\n",
      "\n"
     ]
    }
   ],
   "source": [
    "bin_pt = \"\"\n",
    "for i in \"dddddddddddddddd\":\n",
    "    bin_pt += f2u_mapping[i]\n",
    "bin_ct = \"\"\n",
    "for i in \"mnlmisgkerjkileg\":\n",
    "    bin_ct += f2u_mapping[i]\n",
    "    \n",
    "for k in possible:\n",
    "    kb = generate_round_keys(k,6)\n",
    "    if(encrypt(bin_pt,kb,6) == bin_ct):\n",
    "        # required = k\n",
    "        print(\"The Key is: \" + k)\n",
    "        break"
   ]
  },
  {
   "cell_type": "markdown",
   "metadata": {},
   "source": [
    "## Finding the keys for All Rounds using the Actual Key"
   ]
  },
  {
   "cell_type": "code",
   "execution_count": 77,
   "metadata": {},
   "outputs": [
    {
     "name": "stdout",
     "output_type": "stream",
     "text": [
      "Round 1  111011000100111100000111110101101111101100101011\n",
      "Round 2  011011110011011101100010001111011100110100001111\n",
      "Round 3  111010101101010011101101110011100101010011010110\n",
      "Round 4  110110011100001101011010110011011110001111101101\n",
      "Round 5  001001001101101110111011101100101101111011001001\n",
      "Round 6  101101110011100101000111110110101001011100110111\n"
     ]
    }
   ],
   "source": [
    "key='01101110010111100111101100001110110001110100111010111001'\n",
    "l = key[0:28]     \n",
    "r = key[28:56]  \n",
    "\n",
    "#binary round keys\n",
    "kb = []\n",
    "for i in range(0,6): \n",
    "    #shift bits by n using shift table \n",
    "    l = shift_left(l, shift_table[i]) \n",
    "    r = shift_left(r, shift_table[i]) \n",
    "\n",
    "    #merge\n",
    "    mer=l+r \n",
    "\n",
    "    #compress key from 56 to 48 bits using key compression table\n",
    "    kb.append(permute(mer, key_comp, 48))\n",
    "    print(\"Round \"  + str(i+1) +\"  \"+kb[i])\n"
   ]
  },
  {
   "cell_type": "code",
   "execution_count": 81,
   "metadata": {},
   "outputs": [
    {
     "name": "stdout",
     "output_type": "stream",
     "text": [
      "[0, 1, 1, 0, 1, 1, 1, 0, 0, 1, 0, 1, 1, 1, 1, 0, 0, 1, 1, 1, 1, 0, 1, 1, 0, 0, 0, 0, 1, 1, 1, 0, 1, 1, 0, 0, 0, 1, 1, 1, 0, 1, 0, 0, 1, 1, 1, 0, 1, 0, 1, 1, 1, 0, 0, 1]\n"
     ]
    }
   ],
   "source": [
    "s='01101110010111100111101100001110110001110100111010111001'\n",
    "l=[]\n",
    "for item in s:\n",
    "    l.append(int(item))\n",
    "print(l)"
   ]
  },
  {
   "cell_type": "code",
   "execution_count": 82,
   "metadata": {},
   "outputs": [],
   "source": [
    "temp='jnrkdgqefggnglmromdppogkhfnkreie'"
   ]
  },
  {
   "cell_type": "code",
   "execution_count": 83,
   "metadata": {},
   "outputs": [],
   "source": [
    "rev_dict=mapping = {\n",
    "           'd' : '0000',\n",
    "           'e' : '0001',\n",
    "           'f' : '0010',\n",
    "           'g' : '0011',\n",
    "           'h' : '0100',\n",
    "           'i' : '0101',\n",
    "           'j' : '0110',\n",
    "           'k' : '0111',\n",
    "           'l' : '1000',\n",
    "           'm' : '1001',\n",
    "           'n' : '1010',\n",
    "           'o' : '1011',\n",
    "           'p' : '1100',\n",
    "           'q' : '1101',\n",
    "           'r' : '1110',\n",
    "           's' : '1111'\n",
    "           }\n",
    "ans=\"\"\n",
    "for item in temp:\n",
    "    ans+=str(rev_dict[item])"
   ]
  },
  {
   "cell_type": "code",
   "execution_count": 84,
   "metadata": {},
   "outputs": [
    {
     "name": "stdout",
     "output_type": "stream",
     "text": [
      "[106, 231, 3, 209, 35, 58, 56, 158, 185, 12, 203, 55, 66, 167, 225, 81]\n"
     ]
    }
   ],
   "source": [
    "res=[]\n",
    "\n",
    "# Binary to decimal conversion \n",
    "def bin2dec(binary):  \n",
    "        \n",
    "    binary1 = binary  \n",
    "    decimal, i, n = 0, 0, 0\n",
    "    while(binary != 0):  \n",
    "        dec = binary % 10\n",
    "        decimal = decimal + dec * pow(2, i)  \n",
    "        binary = binary//10\n",
    "        i += 1\n",
    "    return decimal \n",
    "\n",
    "for i in range(16):\n",
    "    res.append(bin2dec(int(ans[8*i:8*i+8])))\n",
    "print(res)"
   ]
  },
  {
   "cell_type": "code",
   "execution_count": null,
   "metadata": {},
   "outputs": [],
   "source": [
    "# final answer\n",
    "# poptdzfims"
   ]
  }
 ],
 "metadata": {
  "kernelspec": {
   "display_name": "Python 3",
   "language": "python",
   "name": "python3"
  },
  "language_info": {
   "codemirror_mode": {
    "name": "ipython",
    "version": 3
   },
   "file_extension": ".py",
   "mimetype": "text/x-python",
   "name": "python",
   "nbconvert_exporter": "python",
   "pygments_lexer": "ipython3",
   "version": "3.8.5"
  }
 },
 "nbformat": 4,
 "nbformat_minor": 5
}
