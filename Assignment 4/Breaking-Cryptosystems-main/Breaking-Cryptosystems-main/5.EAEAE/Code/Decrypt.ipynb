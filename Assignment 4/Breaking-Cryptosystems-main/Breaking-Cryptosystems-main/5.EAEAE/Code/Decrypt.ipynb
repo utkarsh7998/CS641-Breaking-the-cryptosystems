{
 "cells": [
  {
   "cell_type": "code",
   "execution_count": 1,
   "id": "metric-solution",
   "metadata": {},
   "outputs": [],
   "source": [
    "import numpy as np\n",
    "from pyfinite import ffield"
   ]
  },
  {
   "cell_type": "code",
   "execution_count": 2,
   "id": "fitted-dylan",
   "metadata": {},
   "outputs": [
    {
     "data": {
      "text/plain": [
       "[[84, 0, 0, 0, 0, 0, 0, 0],\n",
       " [115, 70, 0, 0, 0, 0, 0, 0],\n",
       " [8, 28, 43, 0, 0, 0, 0, 0],\n",
       " [125, 20, 24, 12, 0, 0, 0, 0],\n",
       " [97, 43, 3, 110, 112, 0, 0, 0],\n",
       " [30, 47, 19, 43, 111, 11, 0, 0],\n",
       " [17, 120, 18, 101, 2, 92, 27, 0],\n",
       " [88, 13, 95, 25, 12, 69, 3, 38]]"
      ]
     },
     "execution_count": 2,
     "metadata": {},
     "output_type": "execute_result"
    }
   ],
   "source": [
    "#Final Matrices as obtained from Cryptanalysis.ipynb\n",
    "At = [[84, 115, 8, 125, 97, 30, 17, 88], [0, 70, 28, 20, 43, 47, 120, 13], [0, 0, 43, 24, 3, 19, 18, 95], [0, 0, 0, 12, 110, 43, 101, 25], [0, 0, 0, 0, 112, 111, 2, 12], [0, 0, 0, 0, 0, 11, 92, 69], [0, 0, 0, 0, 0, 0, 27, 3], [0, 0, 0, 0, 0, 0, 0, 38]]\n",
    "E = [19, 120, 40, 80, 88, 52, 22, 15]\n",
    "A = [[At[j][i] for j in range(len(At))] for i in range(len(At[0]))]\n",
    "A"
   ]
  },
  {
   "cell_type": "code",
   "execution_count": 3,
   "id": "liberal-first",
   "metadata": {},
   "outputs": [
    {
     "name": "stdout",
     "output_type": "stream",
     "text": [
      "A inverse matrix: \n",
      "[[ 67   0   0   0   0   0   0   0]\n",
      " [ 80  77   0   0   0   0   0   0]\n",
      " [115 123  96   0   0   0   0   0]\n",
      " [ 87  33  67  94   0   0   0   0]\n",
      " [ 23 119 117  48  19   0   0   0]\n",
      " [ 13  48  84  87  48  74   0   0]\n",
      " [105  87  44  11  21  97  14   0]\n",
      " [108   7  88  48  83  31 121  56]]\n"
     ]
    }
   ],
   "source": [
    "block_size = 8\n",
    "F = ffield.FField(7, gen=0x83, useLUT=-1)\n",
    "A = np.array((A))\n",
    "augmentedA = np.zeros((block_size, block_size*2), dtype = int)\n",
    "inverseA = np.zeros((block_size, block_size), dtype = int)\n",
    "Einverse = np.zeros((128, 128), dtype = int)\n",
    "\n",
    "exponents = []\n",
    "for i in range(0,128):\n",
    "    exponents.append([1])\n",
    "\n",
    "for base in range(0,128):\n",
    "    for exponent in range(1,127):\n",
    "        temp = exponents[base][exponent-1]\n",
    "        result = F.Multiply(temp, base)\n",
    "        exponents[base]+=[result]\n",
    "\n",
    "for base in range(0,128):\n",
    "    for exponent in range(1,127):\n",
    "        Einverse[exponent][exponents[base][exponent]] = base\n",
    "\n",
    "inverses = [1]\n",
    "for i in range(1, 128):\n",
    "    inverses+=[F.Inverse(i)]\n",
    "    assert F.Multiply(i, inverses[i]) == 1\n",
    "\n",
    "\n",
    "for i in range(0,block_size):\n",
    "    for j in range(0,block_size):\n",
    "        augmentedA[i][j] = A[i][j]\n",
    "    augmentedA[i][i+j+1] = 1\n",
    "\n",
    "for j in range(0,block_size):\n",
    "    assert np.any(augmentedA[j:,j] != 0) # assert pivot row exists: A is invertible\n",
    "    pivot_row = np.where(augmentedA[j:,j] != 0)[0][0] + j\n",
    "    augmentedA[[j, pivot_row]] = augmentedA[[pivot_row, j]]\n",
    "    # make pivot k 1\n",
    "    mul_fact = inverses[augmentedA[j][j]]\n",
    "    for k in range(block_size*2):\n",
    "        augmentedA[j][k] = F.Multiply(augmentedA[j][k], mul_fact)\n",
    "    for i in range(0,block_size):\n",
    "        if i!=j and augmentedA[i][j] != 0:\n",
    "            mult_fact = augmentedA[i][j]\n",
    "            for k in range(block_size*2):\n",
    "                temp = F.Multiply(augmentedA[j][k], mult_fact)\n",
    "                augmentedA[i][k] = F.Add(temp, augmentedA[i][k])\n",
    "\n",
    "for i in range(0,block_size):\n",
    "    for j in range(0,block_size):\n",
    "        inverseA[i][j] = augmentedA[i][block_size+j]\n",
    "print(\"A inverse matrix: \\n{}\".format(inverseA))"
   ]
  },
  {
   "cell_type": "code",
   "execution_count": 4,
   "id": "proud-shore",
   "metadata": {},
   "outputs": [
    {
     "name": "stdout",
     "output_type": "stream",
     "text": [
      "Inverse EAEAE values for block: 0:  [115, 121, 113, 118, 122, 121, 111, 108]\n",
      "Inverse EAEAE values for block: 1:  [100, 109, 48, 48, 48, 48, 48, 48]\n",
      "The password is syqvzyoldm000000\n"
     ]
    }
   ],
   "source": [
    "password = \"gsjgjljmlkfmigggmojufnipisjklimq\" #Encrypted password\n",
    "block_size = 16\n",
    "num_blocks = int(len(password) / block_size) # 2 blocks\n",
    "\n",
    "def Einverse_calculator(block, E):\n",
    "    transformed = []\n",
    "    for j in range(0,8):\n",
    "        transformed+=[Einverse[E[j]][block[j]]]\n",
    "    return transformed\n",
    "\n",
    "def Ainverse_calculator(block, A):\n",
    "    transformed = []\n",
    "    for row_num in range(0,8):\n",
    "        elem_sum = 0\n",
    "        for col_num in range(0,8):\n",
    "            elem = F.Multiply(A[row_num][col_num], block[col_num])\n",
    "            elem_sum = F.Add(elem, elem_sum)\n",
    "        transformed+=[elem_sum]\n",
    "    return transformed\n",
    "\n",
    "decrypted_password = \"\"\n",
    "for i in range(0,2): # Decipher both the blocks of the password\n",
    "    elements = password[block_size*i:block_size*(i+1)]\n",
    "    currentBlock = []\n",
    "    for j in range(0,8):\n",
    "        currentBlock+=[(ord(elements[2*j]) - ord('f'))*16 + (ord(elements[2*j+1]) - ord('f'))]\n",
    "    \n",
    "    temp1 = Ainverse_calculator(Einverse_calculator(currentBlock, E), inverseA)\n",
    "    EA = Einverse_calculator(temp1, E)\n",
    "    \n",
    "    temp2 = Ainverse_calculator(EA, inverseA)\n",
    "    EAEAE = Einverse_calculator(temp2, E)\n",
    "    \n",
    "    print(\"Inverse EAEAE values for block:\",str(i)+\": \",EAEAE)\n",
    "    for ch in EAEAE:\n",
    "        decrypted_password += chr(ch)\n",
    "print(\"The password is\",decrypted_password)\n",
    "    "
   ]
  },
  {
   "cell_type": "code",
   "execution_count": null,
   "id": "different-israeli",
   "metadata": {},
   "outputs": [],
   "source": []
  }
 ],
 "metadata": {
  "kernelspec": {
   "display_name": "Python 3",
   "language": "python",
   "name": "python3"
  },
  "language_info": {
   "codemirror_mode": {
    "name": "ipython",
    "version": 3
   },
   "file_extension": ".py",
   "mimetype": "text/x-python",
   "name": "python",
   "nbconvert_exporter": "python",
   "pygments_lexer": "ipython3",
   "version": "3.7.9"
  }
 },
 "nbformat": 4,
 "nbformat_minor": 5
}
