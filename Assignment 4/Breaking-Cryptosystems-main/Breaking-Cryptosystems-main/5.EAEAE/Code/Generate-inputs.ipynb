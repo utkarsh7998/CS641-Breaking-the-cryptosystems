{
 "cells": [
  {
   "cell_type": "code",
   "execution_count": 1,
   "metadata": {},
   "outputs": [],
   "source": [
    "import numpy as np"
   ]
  },
  {
   "cell_type": "code",
   "execution_count": 2,
   "metadata": {},
   "outputs": [],
   "source": [
    "dictionary = {\n",
    " '0000': 'f',\n",
    " '0001': 'g',\n",
    " '0010': 'h',\n",
    " '0011': 'i',\n",
    " '0100': 'j',\n",
    " '0101': 'k',\n",
    " '0110': 'l',\n",
    " '0111': 'm',\n",
    " '1000': 'n',\n",
    " '1001': 'o',\n",
    " '1010': 'p',\n",
    " '1011': 'q',\n",
    " '1100': 'r',\n",
    " '1101': 's',\n",
    " '1110': 't',\n",
    " '1111': 'u'}"
   ]
  },
  {
   "cell_type": "code",
   "execution_count": 3,
   "metadata": {},
   "outputs": [],
   "source": [
    "file = open(\"plaintexts.txt\",\"w+\")\n",
    "for i in range(8):\n",
    "    for j in range(128):\n",
    "        binary = bin(j)[2:].zfill(8)\n",
    "        plaintext = 'ff'*i + dictionary[binary[:4]] + dictionary[binary[4:]] + 'ff'*(8-i-1)\n",
    "        file.write(plaintext + \" \")\n",
    "    file.write(\"\\n\")\n",
    "file.close()"
   ]
  },
  {
   "cell_type": "code",
   "execution_count": null,
   "metadata": {},
   "outputs": [],
   "source": []
  }
 ],
 "metadata": {
  "kernelspec": {
   "display_name": "Python 3",
   "language": "python",
   "name": "python3"
  },
  "language_info": {
   "codemirror_mode": {
    "name": "ipython",
    "version": 3
   },
   "file_extension": ".py",
   "mimetype": "text/x-python",
   "name": "python",
   "nbconvert_exporter": "python",
   "pygments_lexer": "ipython3",
   "version": "3.7.9"
  }
 },
 "nbformat": 4,
 "nbformat_minor": 2
}
