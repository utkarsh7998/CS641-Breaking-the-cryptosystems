{
 "cells": [
  {
   "cell_type": "code",
   "execution_count": 1,
   "metadata": {},
   "outputs": [
    {
     "name": "stdout",
     "output_type": "stream",
     "text": [
      "0\n",
      "1\n",
      "2\n",
      "3\n",
      "4\n",
      "5\n",
      "6\n",
      "7\n",
      "8\n",
      "9\n",
      "10\n",
      "11\n",
      "12\n",
      "13\n",
      "14\n",
      "15\n",
      "16\n",
      "17\n",
      "18\n",
      "19\n",
      "20\n",
      "21\n",
      "22\n",
      "23\n",
      "24\n",
      "25\n",
      "26\n",
      "27\n"
     ]
    },
    {
     "ename": "TIMEOUT",
     "evalue": "Timeout exceeded in expect_any().\n<wexpect.host.SpawnPipe object at 0x0000010E707141C0>\ncommand: C:\\WINDOWS\\System32\\OpenSSH\\ssh.EXE\nargs: ['C:\\\\WINDOWS\\\\System32\\\\OpenSSH\\\\ssh.EXE', 'students@172.27.26.188']\nsearcher: searcher_re:\n    0: re.compile(\"The text in the screen vanishes!\")\nbuffer (last 100 chars):                                                                                Press c to continue> \nbefore (last 100 chars):                                                                                Press c to continue> \nafter: <class 'wexpect.wexpect_util.TIMEOUT'>\nmatch: None\nmatch_index: None\nexitstatus: None\nflag_eof: False\nhost_pid: 20316\nchild_fd: None\nclosed: False\ntimeout: 30\ndelimiter: <class 'wexpect.wexpect_util.EOF'>\nmaxread: 60000\nignorecase: False\nsearchwindowsize: None\ndelaybeforesend: 0.1\ndelayafterterminate: 2",
     "output_type": "error",
     "traceback": [
      "\u001b[1;31m---------------------------------------------------------------------------\u001b[0m",
      "\u001b[1;31mTIMEOUT\u001b[0m                                   Traceback (most recent call last)",
      "\u001b[1;32m~\\AppData\\Roaming\\Python\\Python38\\site-packages\\wexpect\\host.py\u001b[0m in \u001b[0;36mexpect_loop\u001b[1;34m(self, searcher, timeout, searchwindowsize)\u001b[0m\n\u001b[0;32m    808\u001b[0m                     \u001b[0mlogger\u001b[0m\u001b[1;33m.\u001b[0m\u001b[0minfo\u001b[0m\u001b[1;33m(\u001b[0m\u001b[1;34m'Timeout exceeded in expect_any().'\u001b[0m\u001b[1;33m)\u001b[0m\u001b[1;33m\u001b[0m\u001b[1;33m\u001b[0m\u001b[0m\n\u001b[1;32m--> 809\u001b[1;33m                     \u001b[1;32mraise\u001b[0m \u001b[0mTIMEOUT\u001b[0m\u001b[1;33m(\u001b[0m\u001b[1;34m'Timeout exceeded in expect_any().'\u001b[0m\u001b[1;33m)\u001b[0m\u001b[1;33m\u001b[0m\u001b[1;33m\u001b[0m\u001b[0m\n\u001b[0m\u001b[0;32m    810\u001b[0m                 \u001b[1;31m# Still have time left, so read more data\u001b[0m\u001b[1;33m\u001b[0m\u001b[1;33m\u001b[0m\u001b[1;33m\u001b[0m\u001b[0m\n",
      "\u001b[1;31mTIMEOUT\u001b[0m: Timeout exceeded in expect_any().",
      "\nDuring handling of the above exception, another exception occurred:\n",
      "\u001b[1;31mTIMEOUT\u001b[0m                                   Traceback (most recent call last)",
      "\u001b[1;32m<ipython-input-1-60aa1a64e2c2>\u001b[0m in \u001b[0;36m<module>\u001b[1;34m\u001b[0m\n\u001b[0;32m     32\u001b[0m         \u001b[0mchild\u001b[0m\u001b[1;33m.\u001b[0m\u001b[0mexpect\u001b[0m\u001b[1;33m(\u001b[0m\u001b[1;34m\"Slowly, a new text starts*\"\u001b[0m\u001b[1;33m)\u001b[0m\u001b[1;33m\u001b[0m\u001b[1;33m\u001b[0m\u001b[0m\n\u001b[0;32m     33\u001b[0m         \u001b[0mchild\u001b[0m\u001b[1;33m.\u001b[0m\u001b[0msendline\u001b[0m\u001b[1;33m(\u001b[0m\u001b[1;34m\"c\"\u001b[0m\u001b[1;33m)\u001b[0m\u001b[1;33m\u001b[0m\u001b[1;33m\u001b[0m\u001b[0m\n\u001b[1;32m---> 34\u001b[1;33m         \u001b[0mchild\u001b[0m\u001b[1;33m.\u001b[0m\u001b[0mexpect\u001b[0m\u001b[1;33m(\u001b[0m\u001b[1;34m'The text in the screen vanishes!'\u001b[0m\u001b[1;33m)\u001b[0m\u001b[1;33m\u001b[0m\u001b[1;33m\u001b[0m\u001b[0m\n\u001b[0m\u001b[0;32m     35\u001b[0m         \u001b[0mi\u001b[0m\u001b[1;33m+=\u001b[0m\u001b[1;36m1\u001b[0m\u001b[1;33m\u001b[0m\u001b[1;33m\u001b[0m\u001b[0m\n\u001b[0;32m     36\u001b[0m \u001b[1;33m\u001b[0m\u001b[0m\n",
      "\u001b[1;32m~\\AppData\\Roaming\\Python\\Python38\\site-packages\\wexpect\\host.py\u001b[0m in \u001b[0;36mexpect\u001b[1;34m(self, pattern, timeout, searchwindowsize)\u001b[0m\n\u001b[0;32m    730\u001b[0m \u001b[1;33m\u001b[0m\u001b[0m\n\u001b[0;32m    731\u001b[0m         \u001b[0mcompiled_pattern_list\u001b[0m \u001b[1;33m=\u001b[0m \u001b[0mself\u001b[0m\u001b[1;33m.\u001b[0m\u001b[0mcompile_pattern_list\u001b[0m\u001b[1;33m(\u001b[0m\u001b[0mpattern\u001b[0m\u001b[1;33m)\u001b[0m\u001b[1;33m\u001b[0m\u001b[1;33m\u001b[0m\u001b[0m\n\u001b[1;32m--> 732\u001b[1;33m         \u001b[1;32mreturn\u001b[0m \u001b[0mself\u001b[0m\u001b[1;33m.\u001b[0m\u001b[0mexpect_list\u001b[0m\u001b[1;33m(\u001b[0m\u001b[0mcompiled_pattern_list\u001b[0m\u001b[1;33m,\u001b[0m \u001b[0mtimeout\u001b[0m\u001b[1;33m,\u001b[0m \u001b[0msearchwindowsize\u001b[0m\u001b[1;33m)\u001b[0m\u001b[1;33m\u001b[0m\u001b[1;33m\u001b[0m\u001b[0m\n\u001b[0m\u001b[0;32m    733\u001b[0m \u001b[1;33m\u001b[0m\u001b[0m\n\u001b[0;32m    734\u001b[0m     \u001b[1;32mdef\u001b[0m \u001b[0mexpect_list\u001b[0m\u001b[1;33m(\u001b[0m\u001b[0mself\u001b[0m\u001b[1;33m,\u001b[0m \u001b[0mpattern_list\u001b[0m\u001b[1;33m,\u001b[0m \u001b[0mtimeout\u001b[0m\u001b[1;33m=\u001b[0m\u001b[1;33m-\u001b[0m\u001b[1;36m1\u001b[0m\u001b[1;33m,\u001b[0m \u001b[0msearchwindowsize\u001b[0m\u001b[1;33m=\u001b[0m\u001b[1;33m-\u001b[0m\u001b[1;36m1\u001b[0m\u001b[1;33m)\u001b[0m\u001b[1;33m:\u001b[0m\u001b[1;33m\u001b[0m\u001b[1;33m\u001b[0m\u001b[0m\n",
      "\u001b[1;32m~\\AppData\\Roaming\\Python\\Python38\\site-packages\\wexpect\\host.py\u001b[0m in \u001b[0;36mexpect_list\u001b[1;34m(self, pattern_list, timeout, searchwindowsize)\u001b[0m\n\u001b[0;32m    743\u001b[0m         self.searchwindowsize value is used. \"\"\"\n\u001b[0;32m    744\u001b[0m \u001b[1;33m\u001b[0m\u001b[0m\n\u001b[1;32m--> 745\u001b[1;33m         \u001b[1;32mreturn\u001b[0m \u001b[0mself\u001b[0m\u001b[1;33m.\u001b[0m\u001b[0mexpect_loop\u001b[0m\u001b[1;33m(\u001b[0m\u001b[0msearcher_re\u001b[0m\u001b[1;33m(\u001b[0m\u001b[0mpattern_list\u001b[0m\u001b[1;33m)\u001b[0m\u001b[1;33m,\u001b[0m \u001b[0mtimeout\u001b[0m\u001b[1;33m,\u001b[0m \u001b[0msearchwindowsize\u001b[0m\u001b[1;33m)\u001b[0m\u001b[1;33m\u001b[0m\u001b[1;33m\u001b[0m\u001b[0m\n\u001b[0m\u001b[0;32m    746\u001b[0m \u001b[1;33m\u001b[0m\u001b[0m\n\u001b[0;32m    747\u001b[0m     \u001b[1;32mdef\u001b[0m \u001b[0mexpect_exact\u001b[0m\u001b[1;33m(\u001b[0m\u001b[0mself\u001b[0m\u001b[1;33m,\u001b[0m \u001b[0mpattern_list\u001b[0m\u001b[1;33m,\u001b[0m \u001b[0mtimeout\u001b[0m\u001b[1;33m=\u001b[0m\u001b[1;33m-\u001b[0m\u001b[1;36m1\u001b[0m\u001b[1;33m,\u001b[0m \u001b[0msearchwindowsize\u001b[0m\u001b[1;33m=\u001b[0m\u001b[1;33m-\u001b[0m\u001b[1;36m1\u001b[0m\u001b[1;33m)\u001b[0m\u001b[1;33m:\u001b[0m\u001b[1;33m\u001b[0m\u001b[1;33m\u001b[0m\u001b[0m\n",
      "\u001b[1;32m~\\AppData\\Roaming\\Python\\Python38\\site-packages\\wexpect\\host.py\u001b[0m in \u001b[0;36mexpect_loop\u001b[1;34m(self, searcher, timeout, searchwindowsize)\u001b[0m\n\u001b[0;32m    841\u001b[0m                 \u001b[0mself\u001b[0m\u001b[1;33m.\u001b[0m\u001b[0mmatch_index\u001b[0m \u001b[1;33m=\u001b[0m \u001b[1;32mNone\u001b[0m\u001b[1;33m\u001b[0m\u001b[1;33m\u001b[0m\u001b[0m\n\u001b[0;32m    842\u001b[0m                 \u001b[0mlogger\u001b[0m\u001b[1;33m.\u001b[0m\u001b[0minfo\u001b[0m\u001b[1;33m(\u001b[0m\u001b[1;34mf'TIMEOUT: {e}\\n{self}'\u001b[0m\u001b[1;33m)\u001b[0m\u001b[1;33m\u001b[0m\u001b[1;33m\u001b[0m\u001b[0m\n\u001b[1;32m--> 843\u001b[1;33m                 \u001b[1;32mraise\u001b[0m \u001b[0mTIMEOUT\u001b[0m\u001b[1;33m(\u001b[0m\u001b[1;34mf'{e}\\n{self}'\u001b[0m\u001b[1;33m)\u001b[0m\u001b[1;33m\u001b[0m\u001b[1;33m\u001b[0m\u001b[0m\n\u001b[0m\u001b[0;32m    844\u001b[0m         \u001b[1;32mexcept\u001b[0m \u001b[0mException\u001b[0m\u001b[1;33m:\u001b[0m\u001b[1;33m\u001b[0m\u001b[1;33m\u001b[0m\u001b[0m\n\u001b[0;32m    845\u001b[0m             \u001b[0mself\u001b[0m\u001b[1;33m.\u001b[0m\u001b[0mbefore\u001b[0m \u001b[1;33m=\u001b[0m \u001b[0mincoming\u001b[0m\u001b[1;33m\u001b[0m\u001b[1;33m\u001b[0m\u001b[0m\n",
      "\u001b[1;31mTIMEOUT\u001b[0m: Timeout exceeded in expect_any().\n<wexpect.host.SpawnPipe object at 0x0000010E707141C0>\ncommand: C:\\WINDOWS\\System32\\OpenSSH\\ssh.EXE\nargs: ['C:\\\\WINDOWS\\\\System32\\\\OpenSSH\\\\ssh.EXE', 'students@172.27.26.188']\nsearcher: searcher_re:\n    0: re.compile(\"The text in the screen vanishes!\")\nbuffer (last 100 chars):                                                                                Press c to continue> \nbefore (last 100 chars):                                                                                Press c to continue> \nafter: <class 'wexpect.wexpect_util.TIMEOUT'>\nmatch: None\nmatch_index: None\nexitstatus: None\nflag_eof: False\nhost_pid: 20316\nchild_fd: None\nclosed: False\ntimeout: 30\ndelimiter: <class 'wexpect.wexpect_util.EOF'>\nmaxread: 60000\nignorecase: False\nsearchwindowsize: None\ndelaybeforesend: 0.1\ndelayafterterminate: 2"
     ]
    }
   ],
   "source": [
    "import wexpect\n",
    "\n",
    "child = wexpect.spawn('ssh students@172.27.26.188')\n",
    "child.expect('students@172.27.26.188\\'s password:')\n",
    "child.sendline('cs641a')\n",
    "child.expect('Enter your group name: ', timeout=50) \n",
    "child.sendline(\"Enciphered\")\n",
    "\n",
    "child.expect('Enter password: ', timeout=50)\n",
    "child.sendline(\"Curve25519!\")\n",
    "\n",
    "child.expect('\\r\\n\\r\\n\\r\\nYou have solved 3 levels so far.\\r\\nLevel you want to start at: ', timeout=50)\n",
    "# Note: After clearing level 4 this needs to be changed to \"solved 4 levels so far\"\n",
    "child.sendline(\"4\")\n",
    "\n",
    "# child.expect('\\r\\nThe rumbling sound is very loud here. It is coming from \\r\\n your right side. A cold blast of air hits you sending \\r\\n shivers up your spine. You look in that direction. \\r\\n There is a large opening on the right from where the \\r\\n\\tsound and the air is coming from. There is a fair amount\\r\\n\\tof light also coming from that direction (you realize that\\r\\n\\tyou have not lighted a matchstick and still you can see).\\r\\n\\tThere is another door, with a panel nearby, to your left \\r\\n\\twhich is closed. The chamber is rocky and cold. Another \\r\\n\\tblast of air hits you from your right and you shiver again. \\r\\n\\r\\n> ', timeout=120)\n",
    "# child.sendline(\"read\")\n",
    "\n",
    "child.expect('.*')\n",
    "child.sendline(\"read\")\n",
    "\n",
    "child.expect('.*')\n",
    "\n",
    "f = open(\"plaintexts1.txt\", 'r')\n",
    "f1= open(\"ciphertexts1.txt\",'w')\n",
    "i = 0\n",
    "for line in f.readlines():\n",
    "\tchild.sendline(line)\n",
    "# \tprint(i,\":\",child.before)\n",
    "\tprint(i)\n",
    "\tf1.writelines(str(child.before)[48:64]+\"\\n\")\n",
    "\tchild.expect(\"Slowly, a new text starts*\")\n",
    "\tchild.sendline(\"c\")\n",
    "\tchild.expect('The text in the screen vanishes!')\n",
    "\ti+=1\n",
    "\n",
    "data = child.read()\n",
    "print(data)\n",
    "child.close()\n",
    "print(child.before, child.after)\n",
    "\n",
    "f.close()\n",
    "f1.close()"
   ]
  },
  {
   "cell_type": "code",
   "execution_count": null,
   "metadata": {},
   "outputs": [],
   "source": []
  }
 ],
 "metadata": {
  "kernelspec": {
   "display_name": "Python 3",
   "language": "python",
   "name": "python3"
  },
  "language_info": {
   "codemirror_mode": {
    "name": "ipython",
    "version": 3
   },
   "file_extension": ".py",
   "mimetype": "text/x-python",
   "name": "python",
   "nbconvert_exporter": "python",
   "pygments_lexer": "ipython3",
   "version": "3.8.5"
  }
 },
 "nbformat": 4,
 "nbformat_minor": 4
}
