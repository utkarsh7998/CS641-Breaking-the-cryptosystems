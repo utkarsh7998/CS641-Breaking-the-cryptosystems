{
 "cells": [
  {
   "cell_type": "code",
   "execution_count": 273,
   "id": "experimental-lesbian",
   "metadata": {},
   "outputs": [],
   "source": [
    "rounds=24\n",
    "hash_val='00080101000000000E0A830965696CEA61EC61E50000000061E460E40000000061E460E4000000000E02820865696CEA6FEEE3ED65696CEA0E0A830965696CEA'\n",
    "message=[]\n",
    "for r in range(576):\n",
    "    message.append(0)"
   ]
  },
  {
   "cell_type": "code",
   "execution_count": 274,
   "id": "comfortable-stock",
   "metadata": {},
   "outputs": [],
   "source": [
    "state=[]\n",
    "temp_state=[]\n",
    "column_parity=[]\n",
    "for i in range(5):\n",
    "    state.append([])\n",
    "    temp_state.append([])\n",
    "    column_parity.append([])\n",
    "for i in range(5):\n",
    "    for j in range(5):\n",
    "        state[i].append([])\n",
    "        temp_state[i].append([])\n",
    "for i in range(5):\n",
    "    for j in range(5):\n",
    "        for k in range(64):\n",
    "            state[i][j].append(0)\n",
    "            temp_state[i][j].append(0)\n",
    "for i in range(5):\n",
    "    for k in range(64):\n",
    "        column_parity[i].append(0)"
   ]
  },
  {
   "cell_type": "code",
   "execution_count": 275,
   "id": "radical-increase",
   "metadata": {},
   "outputs": [],
   "source": [
    "chi_mapping={\n",
    "    '00000': '00000',\n",
    "    '10000': '10010',\n",
    "    '01001': '01100',\n",
    "    '10100': '00110',\n",
    "    '00001': '00101',\n",
    "    '00100': '10100',\n",
    "    '11110': '11100',\n",
    "    '01101': '01000',\n",
    "    '10101': '00001',\n",
    "    '11001': '11101',\n",
    "    '11000': '11010',\n",
    "    '11101': '11001',\n",
    "    '11011': '10011',\n",
    "    '01100': '01101',\n",
    "    '01011': '00010',\n",
    "    '00010': '01010',\n",
    "    '11111': '11111',\n",
    "    '01110': '01111',\n",
    "    '10110': '00100',\n",
    "    '11100': '11110',\n",
    "    '10011': '11011',\n",
    "    '10001': '10101',\n",
    "    '01010': '00011',\n",
    "    '01000': '01001',\n",
    "    '00111': '10111',\n",
    "    '01111': '01110',\n",
    "    '00101': '10001',\n",
    "    '10010': '11000',\n",
    "    '00011': '01011',\n",
    "    '10111': '00111',\n",
    "    '11010': '10000',\n",
    "    '11000': '11010',\n",
    "    '00111': '10111',\n",
    "    '00110': '10110',\n",
    "}"
   ]
  },
  {
   "cell_type": "code",
   "execution_count": 276,
   "id": "portable-batch",
   "metadata": {},
   "outputs": [],
   "source": [
    "chi_inverse_mapping= {'00000': '00000', \n",
    "                      '10010': '10000', \n",
    "                      '01100': '01001', \n",
    "                      '00110': '10100', \n",
    "                      '00101': '00001', \n",
    "                      '10100': '00100', \n",
    "                      '11100': '11110', \n",
    "                      '01000': '01101', \n",
    "                      '00001': '10101', \n",
    "                      '11101': '11001', \n",
    "                      '11010': '11000', \n",
    "                      '11001': '11101', \n",
    "                      '10011': '11011', \n",
    "                      '01101': '01100', \n",
    "                      '00010': '01011', \n",
    "                      '01010': '00010', \n",
    "                      '11111': '11111', \n",
    "                      '01111': '01110', \n",
    "                      '00100': '10110', \n",
    "                      '11110': '11100', \n",
    "                      '11011': '10011', \n",
    "                      '10101': '10001', \n",
    "                      '00011': '01010', \n",
    "                      '01001': '01000', \n",
    "                      '10111': '00111', \n",
    "                      '01110': '01111', \n",
    "                      '10001': '00101', \n",
    "                      '11000': '10010', \n",
    "                      '01011': '00011', \n",
    "                      '00111': '10111', \n",
    "                      '10000': '11010', \n",
    "                      '10110': '00110'}"
   ]
  },
  {
   "cell_type": "code",
   "execution_count": 277,
   "id": "exempt-current",
   "metadata": {},
   "outputs": [],
   "source": [
    "hexToBinary= {'0':'0000', '1':'0001', '2':'0010','3':'0011', '4': '0100', '5': '0101', '6':'0110', '7': '0111', '8': '1000', '9': '1001', 'A': '1010', 'B': '1011', 'C': '1100', 'D': '1101', 'E': '1110', 'F': '1111'}"
   ]
  },
  {
   "cell_type": "code",
   "execution_count": 278,
   "id": "colored-smell",
   "metadata": {},
   "outputs": [],
   "source": [
    "k=0\n",
    "for ele in hash_val:\n",
    "    bin_val= hexToBinary[ele]\n",
    "    for j in reversed(range(0,4)):\n",
    "        state[k//(64*5)][(k//64)%5][k%64 + j]=int(bin_val[3-j])\n",
    "    k+=4"
   ]
  },
  {
   "cell_type": "code",
   "execution_count": 279,
   "id": "activated-consensus",
   "metadata": {},
   "outputs": [],
   "source": [
    "current_round=0\n",
    "while(current_round<rounds):\n",
    "    temp_state=[]\n",
    "    for i in range(5):\n",
    "        temp_state.append([])\n",
    "    for i in range(5):\n",
    "        for j in range(5):\n",
    "            temp_state[i].append([])\n",
    "    for i in range(5):\n",
    "        for j in range(5):\n",
    "            for k in range(64):\n",
    "                temp_state[i][j].append(0)\n",
    "                \n",
    "#     inverse_chi operation\n",
    "    for i in range(5):\n",
    "        for k in range(64):\n",
    "            s_after_chi=''\n",
    "            for j in range(5):\n",
    "                s_after_chi+= str(state[i][j][k])\n",
    "            s_before_chi = chi_inverse_mapping[s_after_chi]\n",
    "            for j in range(5):\n",
    "                state[i][j][k]= int(s_before_chi[j])\n",
    "                \n",
    "#     inverse pi operation\n",
    "    for i in range(5):\n",
    "        for j in range(5):\n",
    "            for k in range(64):\n",
    "                temp_state[i][j][k]= state[j][((2 * i) + (3 * j)) % 5][k]\n",
    "    state=temp_state.copy()\n",
    "                \n",
    "#     inverse theta operation\n",
    "    for i in range(5):\n",
    "        for k in range(64):\n",
    "            column_parity[i][k]=0\n",
    "            for j in range(5):\n",
    "                column_parity[i][k]^= temp_state[i][j][k]\n",
    "    \n",
    "    for i in range(5):\n",
    "        for j in range(5):\n",
    "            for k in range(64):\n",
    "                state[i][j][k] = temp_state[i][j][k] ^ column_parity[(i+2)%5][k] ^ column_parity[(i+3)%5][k]\n",
    "#                 state[i][j][k] = temp_state[i][j][k]\n",
    "                \n",
    "    current_round+=1\n",
    "    "
   ]
  },
  {
   "cell_type": "code",
   "execution_count": 280,
   "id": "addressed-longitude",
   "metadata": {},
   "outputs": [],
   "source": [
    "for k in range(576):\n",
    "    message[k]= state[k//(64*5)][(k//64) % 5][int(k%64)]"
   ]
  },
  {
   "cell_type": "code",
   "execution_count": 281,
   "id": "automotive-tanzania",
   "metadata": {},
   "outputs": [],
   "source": [
    "string=''\n",
    "for i in range(0,576,8):\n",
    "    s=''.join(str(x) for x in message[i:i+8])\n",
    "#     print(s)\n",
    "    string +=''.join(chr(int(s, 2)))"
   ]
  },
  {
   "cell_type": "code",
   "execution_count": 282,
   "id": "opened-postage",
   "metadata": {},
   "outputs": [
    {
     "name": "stdout",
     "output_type": "stream",
     "text": [
      "hr`r\u0000\u0000\u0000\u0000hshz\u0000\u0000\u0000\u0000ow|{jicuovtsjicu\u0000\u0001\b\b\u0000\u0000\u0000\u0000\u0000\u0000\u0000\u0000\u0000\u0000\u0000\u0000hshz\u0000\u0000\u0000\u0000ow|{jicuhr`r\u0000\u0000\u0000\u0000\n"
     ]
    }
   ],
   "source": [
    "print(string)"
   ]
  },
  {
   "cell_type": "code",
   "execution_count": null,
   "id": "geological-climb",
   "metadata": {},
   "outputs": [],
   "source": []
  }
 ],
 "metadata": {
  "kernelspec": {
   "display_name": "Python 3",
   "language": "python",
   "name": "python3"
  },
  "language_info": {
   "codemirror_mode": {
    "name": "ipython",
    "version": 3
   },
   "file_extension": ".py",
   "mimetype": "text/x-python",
   "name": "python",
   "nbconvert_exporter": "python",
   "pygments_lexer": "ipython3",
   "version": "3.9.2"
  }
 },
 "nbformat": 4,
 "nbformat_minor": 5
}
