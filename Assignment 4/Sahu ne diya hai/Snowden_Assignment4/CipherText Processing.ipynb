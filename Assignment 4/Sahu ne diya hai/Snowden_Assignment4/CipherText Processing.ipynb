{
 "cells": [
  {
   "cell_type": "code",
   "execution_count": 1,
   "metadata": {},
   "outputs": [],
   "source": [
    "## This module converts the ciphertexts to binary \n",
    "\n",
    "ciphertexts = open(\"ciphertexts.txt\",\"r\")\n",
    "binciphertexts = open('binaryciphertexts.txt','a+')\n",
    "\n",
    "#Variable 't' contains cipher text and tmp contains the corresponding binary value \n",
    "#Conversion format is f=0000,g=0001 and ... u=1111 \n",
    "\n",
    "t = \"\"\n",
    "count = 0\n",
    "while count < 100000:\n",
    "    t = ciphertexts.read(17)\n",
    "    for i in t:\n",
    "        # 102: ASCII for 'f'\n",
    "        tmp = ord(i) - 102 \n",
    "        tmp = \"\".join(bin(tmp))[2:].zfill(4)\n",
    "        binciphertexts.write(tmp)\n",
    "    binciphertexts.write('\\n')\n",
    "    count += 1\n",
    "\n",
    "ciphertexts.close()\n",
    "binciphertexts.close()\n",
    "\n"
   ]
  },
  {
   "cell_type": "code",
   "execution_count": 2,
   "metadata": {},
   "outputs": [],
   "source": [
    "### Removing last 8 -bits present at each line of binaryciphertexts.txt. Output will be stored at binciphertexts.txt\n",
    "binciphertexts = open('binciphertexts.txt','a+')\n",
    "with open('binaryciphertexts.txt') as f:\n",
    "    lines = f.read().splitlines()\n",
    "    for line in lines:\n",
    "        tmp = line[:-8]\n",
    "        binciphertexts.write(tmp)\n",
    "        binciphertexts.write('\\n')"
   ]
  },
  {
   "cell_type": "code",
   "execution_count": null,
   "metadata": {},
   "outputs": [],
   "source": []
  }
 ],
 "metadata": {
  "kernelspec": {
   "display_name": "Python 3",
   "language": "python",
   "name": "python3"
  },
  "language_info": {
   "codemirror_mode": {
    "name": "ipython",
    "version": 3
   },
   "file_extension": ".py",
   "mimetype": "text/x-python",
   "name": "python",
   "nbconvert_exporter": "python",
   "pygments_lexer": "ipython3",
   "version": "3.8.3"
  }
 },
 "nbformat": 4,
 "nbformat_minor": 2
}
