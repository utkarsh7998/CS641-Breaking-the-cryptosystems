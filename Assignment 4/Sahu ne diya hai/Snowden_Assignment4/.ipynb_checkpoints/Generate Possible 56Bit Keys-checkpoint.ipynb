{
 "cells": [
  {
   "cell_type": "code",
   "execution_count": 1,
   "metadata": {},
   "outputs": [
    {
     "name": "stdout",
     "output_type": "stream",
     "text": [
      "XX1XX1XXX10X1X10XXX11XX11X0X1011100X00000110X11X0111X001\n"
     ]
    }
   ],
   "source": [
    "## This phase we will generate possible list of key values (56-bit) which can be used in the next stage for brute forcing \n",
    "## In the previous stage we got 36 bit key value; Now we are making it to 56 bit\n",
    "sixthrkey=\"101101111011XXXXXXXXXXXX100110011010010000111101\"\n",
    "\n",
    "## Key pc-2 matrix\n",
    "pc2 = [14, 17, 11, 24,  1, 5,\n",
    "  3, 28 ,15,  6, 21, 10,\n",
    "  23, 19, 12,  4, 26, 8,\n",
    "  16,  7, 27, 20, 13, 2,\n",
    "  41, 52, 31, 37, 47, 55,\n",
    "  30, 40, 51, 45, 33, 48,\n",
    "  44, 49, 39, 56, 34, 53,\n",
    "  46, 42, 50, 36, 29, 32]\n",
    "\n",
    "final56bkey=['X']*56\n",
    "\n",
    "for i in range(len(sixthrkey)):\n",
    "    #Applying PC-2\n",
    "    final56bkey[pc2[i]-1]=sixthrkey[i]  \n",
    "                  \n",
    "shift_array=[1, 1, 2, 2, 2, 2, 2, 2, 1, 2, 2, 2, 2, 2, 2, 1]  \n",
    "\n",
    "#After applying pc-2 we need to go through a series of shifts to get the final 56 bit key\n",
    "for i in range(6):           \n",
    "    for j in range(shift_array[i]):\n",
    "        half1=final56bkey[55]\n",
    "        half2=final56bkey[27]\n",
    "        k=27\n",
    "        while(k>=1):\n",
    "            final56bkey[k]=final56bkey[k-1]\n",
    "            final56bkey[k+28]=final56bkey[k+27]\n",
    "            k-=1\n",
    "        final56bkey[0]=half2\n",
    "        final56bkey[28]=half1\n",
    "print(\"\".join(final56bkey))\n"
   ]
  },
  {
   "cell_type": "code",
   "execution_count": 2,
   "metadata": {},
   "outputs": [],
   "source": [
    "## This phase generate list of possible keys for breaking 6 round DES\n",
    "possible_keys=open(\"possible_keys.txt\",'w')\n",
    "\n",
    "## Iterate through 2^20 possible values (Because 20 bits are missing out of 56)\n",
    "for i in range(2**20):\n",
    "    possible_keys.write(str(i//524288%2) + str(i//262144%2) + '1' + str(i//131072%2) + str(i//65536%2) + '1' + str(i//32768%2) + str(i//16384%2) + str(i//8192%2) + '10' + str(i//4096%2) + '1' + str(i//2048%2) + '10' + str(i//1024%2) + str(i//512%2) + str(i//256%2) + \"11\" + str(i//128%2) + str(i//64%2) + '11' + str(i//32%2) + \"0\" + str(i//16%2) + '1011100' + str(i//8%2) + \"00000110\" + str(i//4%2) + '11' + str(i//2%2) + \"0111\" + str(i%2) + '001\\n')\n",
    "possible_keys.close()"
   ]
  },
  {
   "cell_type": "code",
   "execution_count": null,
   "metadata": {},
   "outputs": [],
   "source": []
  }
 ],
 "metadata": {
  "kernelspec": {
   "display_name": "Python 3",
   "language": "python",
   "name": "python3"
  },
  "language_info": {
   "codemirror_mode": {
    "name": "ipython",
    "version": 3
   },
   "file_extension": ".py",
   "mimetype": "text/x-python",
   "name": "python",
   "nbconvert_exporter": "python",
   "pygments_lexer": "ipython3",
   "version": "3.8.3"
  }
 },
 "nbformat": 4,
 "nbformat_minor": 2
}
