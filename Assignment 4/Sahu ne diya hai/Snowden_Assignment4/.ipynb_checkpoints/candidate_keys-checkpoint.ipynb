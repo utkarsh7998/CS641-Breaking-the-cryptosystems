{
 "cells": [
  {
   "cell_type": "code",
   "execution_count": 1,
   "metadata": {},
   "outputs": [],
   "source": [
    "#brute force on unknown key bits\n",
    "#XX0XX1XXX10X0X10XXX10XX00X1X1110011X00000001X10X0010X010\n",
    "key_out_file=open(\"key_out.txt\",'w')\n",
    "for i in range(2**20):\n",
    "    key_out_file.write(str(i//524288%2) + str(i//262144%2) + '0' + str(i//131072%2) + str(i//65536%2) + '1' + str(i//32768%2) + str(i//16384%2) + str(i//8192%2) + '10' + str(i//4096%2) + '0' + str(i//2048%2) + '10' + str(i//1024%2) + str(i//512%2) + str(i//256%2) + \"10\" + str(i//128%2) + str(i//64%2) + '00' + str(i//32%2) + \"1\" + str(i//16%2) + '1110011' + str(i//8%2) + \"00000001\" + str(i//4%2) + '10' + str(i//2%2) + \"0010\" + str(i%2) + '010\\n')\n",
    "key_out_file.close()"
   ]
  }
 ],
 "metadata": {
  "kernelspec": {
   "display_name": "Python 3",
   "language": "python",
   "name": "python3"
  },
  "language_info": {
   "codemirror_mode": {
    "name": "ipython",
    "version": 3
   },
   "file_extension": ".py",
   "mimetype": "text/x-python",
   "name": "python",
   "nbconvert_exporter": "python",
   "pygments_lexer": "ipython3",
   "version": "3.8.3"
  }
 },
 "nbformat": 4,
 "nbformat_minor": 2
}
