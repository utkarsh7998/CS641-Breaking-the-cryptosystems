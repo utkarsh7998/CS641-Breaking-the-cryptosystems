{
 "cells": [
  {
   "cell_type": "code",
   "execution_count": 1,
   "metadata": {},
   "outputs": [],
   "source": [
    "# This module takes all plaintext values and outputs a shell script file that helps in obtaining cipher texts from server\n",
    "string = ''\n",
    "with open('plaintexts.txt') as f:\n",
    "    line = f.readline()\n",
    "    \n",
    "    while(line):\n",
    "        line = line[:-1]\n",
    "        string = string + line + \"\\\\\" + \"n\"  + 'c' + \"\\\\n\"\n",
    "        \n",
    "        line = f.readline()\n",
    "\n",
    "string = 'echo -e \"Snowden\\\\nSS07@pa1\\\\n4\\\\nread\\\\npassword\\\\nc\\\\n' + string +'back\\\\nexit\"'\n",
    "j = open('out.sh','w+')\n",
    "j.write(string)\n",
    "j.close()"
   ]
  },
  {
   "cell_type": "code",
   "execution_count": null,
   "metadata": {},
   "outputs": [],
   "source": []
  }
 ],
 "metadata": {
  "kernelspec": {
   "display_name": "Python 3",
   "language": "python",
   "name": "python3"
  },
  "language_info": {
   "codemirror_mode": {
    "name": "ipython",
    "version": 3
   },
   "file_extension": ".py",
   "mimetype": "text/x-python",
   "name": "python",
   "nbconvert_exporter": "python",
   "pygments_lexer": "ipython3",
   "version": "3.8.3"
  }
 },
 "nbformat": 4,
 "nbformat_minor": 4
}
