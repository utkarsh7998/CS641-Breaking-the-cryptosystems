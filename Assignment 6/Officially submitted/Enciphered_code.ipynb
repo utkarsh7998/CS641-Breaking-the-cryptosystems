{
 "cells": [
  {
   "cell_type": "markdown",
   "metadata": {},
   "source": [
    "### Note for user: Please make sure that you installed sage-math v9.0 or above (preferable v9.3) in your system before running this code."
   ]
  },
  {
   "cell_type": "code",
   "execution_count": 1,
   "metadata": {},
   "outputs": [],
   "source": [
    "import numpy as np\n",
    "import math"
   ]
  },
  {
   "cell_type": "code",
   "execution_count": 2,
   "metadata": {},
   "outputs": [],
   "source": [
    "def calculate_mm(pol):\n",
    "    return ceil(1**2 / (pol.degree() * (1/7)))"
   ]
  },
  {
   "cell_type": "code",
   "execution_count": 3,
   "metadata": {},
   "outputs": [],
   "source": [
    "def calculate_tt(x, pol, beta):\n",
    "    return floor(pol.degree() * x * ((1/beta) - 1))"
   ]
  },
  {
   "cell_type": "code",
   "execution_count": 4,
   "metadata": {},
   "outputs": [],
   "source": [
    "def calculate_XX(N, pol):\n",
    "    return ceil(N**((1**2/pol.degree()) - (1/7)))"
   ]
  },
  {
   "cell_type": "code",
   "execution_count": 5,
   "metadata": {},
   "outputs": [],
   "source": [
    "def get_unicode(p):\n",
    "    hex_p = ['{0:08b}'.format(ord(x)) for x in p ]\n",
    "    bin_p = ''.join(hex_p)\n",
    "    return bin_p"
   ]
  },
  {
   "cell_type": "code",
   "execution_count": 6,
   "metadata": {},
   "outputs": [],
   "source": [
    "def get_epsilon(x):\n",
    "    ans = x/7\n",
    "    return ans"
   ]
  },
  {
   "cell_type": "code",
   "execution_count": 7,
   "metadata": {},
   "outputs": [],
   "source": [
    "def get_Polynomial(fx, M, e, C):\n",
    "    ans = ( fx + M)^e - C\n",
    "    return ans"
   ]
  },
  {
   "cell_type": "code",
   "execution_count": 8,
   "metadata": {},
   "outputs": [],
   "source": [
    "def get_key_in_binary(x):\n",
    "    ans = bin(x[0])[2:]\n",
    "    return ans"
   ]
  },
  {
   "cell_type": "markdown",
   "metadata": {},
   "source": [
    "## Defining RSA Algorithm for final analysis"
   ]
  },
  {
   "cell_type": "code",
   "execution_count": 9,
   "metadata": {},
   "outputs": [],
   "source": [
    "def run_RSA_Algo(p, len_M,e,C,N):\n",
    "    label, beta = 0, 1\n",
    "    eps = get_epsilon(beta) ## Get epsilon from beta i.e. 1\n",
    "    unicode_p = get_unicode(p)  ## Get unicode form\n",
    "    for i in range(0, len_M+1, 4):\n",
    "        fx = ( int(unicode_p, 2 )*(2**i)  ) # fx is the monic polynomial f(x) = (p + m)^e - c whose roots we have to find\n",
    "        P.<M> = PolynomialRing(Zmod(N))\n",
    "        pol = get_Polynomial(fx, M, e, C)\n",
    "        XX = calculate_XX(N, pol)\n",
    "        mm = calculate_mm(pol) \n",
    "        tt = calculate_tt(mm, pol, beta)    \n",
    "        \n",
    "        roots = Coppersmith_hograve_univariate(pol, N, beta, mm, tt, XX)     \n",
    "        if roots:\n",
    "            label = 1\n",
    "            print(get_key_in_binary(roots))\n",
    "            break\n",
    "            \n",
    "    if label==0: ## in this case, no roots found\n",
    "        print('NO SOLUTION. PLZ TRY AGAIN')"
   ]
  },
  {
   "cell_type": "markdown",
   "metadata": {},
   "source": [
    "## Defining Copper Hograve Univariate algorithm"
   ]
  },
  {
   "cell_type": "code",
   "execution_count": 10,
   "metadata": {},
   "outputs": [],
   "source": [
    "def Coppersmith_hograve_univariate(polynomial, modulus, beta, m, t, X):   \n",
    "    polynomials = [] # Polynomials    \n",
    "    polynomial = polynomial.change_ring(ZZ)\n",
    "    x = polynomial.change_ring(ZZ).parent().gen()\n",
    "    degree = polynomial.degree()\n",
    "    for i in range(m):\n",
    "        for j in range(degree):\n",
    "            polynomials+=[(x * X)**j * modulus**(m - i) * polynomial(x * X)**i ]\n",
    "    for i in range(t):\n",
    "        polynomials+=[(x * X)**i * polynomial(x * X)**m]\n",
    "    y = degree * m + t\n",
    "    lattice_B = Matrix(ZZ, y) \n",
    "    for i in range(y):\n",
    "        for j in range(i+1):\n",
    "            lattice_B[i, j] = polynomials[i][j]\n",
    "    lattice_B = lattice_B.LLL() \n",
    "    polynomial = 0\n",
    "    for i in range(y):\n",
    "        polynomial += x**i * lattice_B[0, i] / X**i \n",
    "\n",
    "    possible_roots = polynomial.roots() \n",
    "    \n",
    "    roots = [] \n",
    "    for root in possible_roots:\n",
    "        if root[0].is_integer():\n",
    "            result = polynomial(ZZ(root[0]))\n",
    "            if gcd(modulus, result) >= modulus^beta:\n",
    "                roots+=[ZZ(root[0])]\n",
    "\n",
    "    return roots"
   ]
  },
  {
   "cell_type": "markdown",
   "metadata": {},
   "source": [
    "## Initializing parameters"
   ]
  },
  {
   "cell_type": "code",
   "execution_count": 11,
   "metadata": {},
   "outputs": [],
   "source": [
    "p = \"Enciphered: This door has RSA encryption with exponent 5 and the password is \"\n",
    "leng = 200\n",
    "e = 5 # exponent = 5 given in ssh shell\n",
    "c = 2969023437436183512336870086326549581833370050334837450036669432944362889834928531534906604582787578431255698715734609608169913951529053470141686196688149173328862617257328735486924568694348455256341430411625724632931444026955851997835620976005820932000358697495724798859114597671587853115690643700949719191\n",
    "n = 84364443735725034864402554533826279174703893439763343343863260342756678609216895093779263028809246505955647572176682669445270008816481771701417554768871285020442403001649254405058303439906229201909599348669565697534331652019516409514800265887388539283381053937433496994442146419682027649079704982600857517093"
   ]
  },
  {
   "cell_type": "markdown",
   "metadata": {},
   "source": [
    "## Run RSA Algorithm\n",
    "### NOTE:  : copy the answer printed in this cell to the next one as per the instruction given there"
   ]
  },
  {
   "cell_type": "code",
   "execution_count": 12,
   "metadata": {},
   "outputs": [
    {
     "name": "stdout",
     "output_type": "stream",
     "text": [
      "1000011001110000101100101010000001101110110111101001100011011110011011001011001\n"
     ]
    }
   ],
   "source": [
    "run_RSA_Algo(p, leng, e,c,n)"
   ]
  },
  {
   "cell_type": "markdown",
   "metadata": {},
   "source": [
    "## Convert from binary chunks of size 8 bits each into ASCII\n",
    "###  Note: copy the root printed above and pad it with a '0' bit in beginning manually and assign it to binary_int variable"
   ]
  },
  {
   "cell_type": "code",
   "execution_count": 13,
   "metadata": {},
   "outputs": [
    {
     "name": "stdout",
     "output_type": "stream",
     "text": [
      "\u0000\u0000\u0000\u0000\u0000\u0000\u0000\u0000\u0000\u0000\u0000\u0000\u0000\u0000\u0000\u0000\u0000\u0000\u0000\u0000\u0000\u0000\u0000\u0000\u0000\u0000\u0000\u0000\u0000\u0000\u0000\u0000\u0000\u0000\u0000\u0000\u0000\u0000\u0000\u0000\u0000\u0000\u0000\u0000\u0000\u0000\u0000\u0000\u0000\u0000\u0000\u0000\u0000\u0000\u0000\u0000\u0000\u0000\u0000\u0000\u0000\u0000\u0000\u0000\u0000\u0000\u0000\u0000\u0000C8YP7oLo6Y\n"
     ]
    }
   ],
   "source": [
    "binary_int = int(\"01000011001110000101100101010000001101110110111101001100011011110011011001011001\", 2);\n",
    "byte_number = binary_int.bit_length() + 7 // 8\n",
    "binary_array = binary_int.to_bytes(byte_number, \"big\")\n",
    "ascii_text = binary_array.decode()\n",
    "print(ascii_text)"
   ]
  },
  {
   "cell_type": "code",
   "execution_count": null,
   "metadata": {},
   "outputs": [],
   "source": []
  }
 ],
 "metadata": {
  "kernelspec": {
   "display_name": "SageMath 9.3",
   "language": "sage",
   "name": "sagemath"
  },
  "language_info": {
   "codemirror_mode": {
    "name": "ipython",
    "version": 3
   },
   "file_extension": ".py",
   "mimetype": "text/x-python",
   "name": "python",
   "nbconvert_exporter": "python",
   "pygments_lexer": "ipython3",
   "version": "3.7.10"
  }
 },
 "nbformat": 4,
 "nbformat_minor": 4
}
