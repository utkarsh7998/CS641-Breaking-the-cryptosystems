{
 "cells": [
  {
   "cell_type": "markdown",
   "metadata": {},
   "source": [
    "## Morse Code Conversion"
   ]
  },
  {
   "cell_type": "code",
   "execution_count": 1,
   "metadata": {},
   "outputs": [
    {
     "data": {
      "text/plain": [
       "'CRYPTANALYSIS'"
      ]
     },
     "execution_count": 1,
     "metadata": {},
     "output_type": "execute_result"
    }
   ],
   "source": [
    "## Convert Morse code to english\n",
    "dict = {'A':'.-', 'B':'-...',\n",
    "                    'C':'-.-.', 'D':'-..', 'E':'.',\n",
    "                    'F':'..-.', 'G':'--.', 'H':'....',\n",
    "                    'I':'..', 'J':'.---', 'K':'-.-',\n",
    "                    'L':'.-..', 'M':'--', 'N':'-.',\n",
    "                    'O':'---', 'P':'.--.', 'Q':'--.-',\n",
    "                    'R':'.-.', 'S':'...', 'T':'-',\n",
    "                    'U':'..-', 'V':'...-', 'W':'.--',\n",
    "                    'X':'-..-', 'Y':'-.--', 'Z':'--..',\n",
    "                    '1':'.----', '2':'..---', '3':'...--',\n",
    "                    '4':'....-', '5':'.....', '6':'-....',\n",
    "                    '7':'--...', '8':'---..', '9':'----.',\n",
    "                    '0':'-----', ', ':'--..--', '.':'.-.-.-',\n",
    "                    '?':'..--..', '/':'-..-.', '-':'-....-',\n",
    "                    '(':'-.--.', ')':'-.--.-'}\n",
    "new_dict = {v:k for k,v in dict.items()}\n",
    "morse_code = '-.-. .-. -.-- .--. - .- -. .- .-.. -.-- ... .. ...'\n",
    "morse_code = morse_code.split(' ')\n",
    "english_word = ''\n",
    "for i in morse_code:\n",
    "    english_word +=new_dict[i]\n",
    "english_word"
   ]
  },
  {
   "cell_type": "markdown",
   "metadata": {},
   "source": [
    "## Play fair cipher decryption"
   ]
  },
  {
   "cell_type": "code",
   "execution_count": 5,
   "metadata": {},
   "outputs": [],
   "source": [
    "key = 'CRYPTANALYSIS'\n",
    "matrix = [['C','R','Y','P','T'],\n",
    "               ['A','N','L','S','I'],\n",
    "               ['B','D','E','F','G'],\n",
    "               ['H','K','M','O','Q'],\n",
    "               ['U','V','W','X','Z'],]"
   ]
  },
  {
   "cell_type": "code",
   "execution_count": 25,
   "metadata": {},
   "outputs": [],
   "source": [
    "def decryption(matrix, ciphertext):\n",
    "    for i in matrix:\n",
    "        if ciphertext[0] in i:\n",
    "            row1 = matrix.index(i)\n",
    "            col1 = i.index(ciphertext[0])\n",
    "    for i in matrix:\n",
    "        if ciphertext[1] in i:\n",
    "            row2 = matrix.index(i)\n",
    "            col2 = i.index(ciphertext[1])\n",
    "    \n",
    "    #Case1: Same row\n",
    "    if row1 == row2:\n",
    "        if col1 == 0 and col2 != 0:\n",
    "            ciphertext = matrix[row1][4]+matrix[row1][col2-1]\n",
    "        elif col1 != 0 and col2 == 0:\n",
    "            ciphertext = matrix[row1][col1-1]+matrix[row1][4]\n",
    "        elif col1 == 0 and col2 == 0:\n",
    "            ciphertext = matrix[row1][4]+matrix[row1][4]\n",
    "        else:\n",
    "            ciphertext = matrix[row1][col1-1]+matrix[row1][col2-1]\n",
    "    \n",
    "    #Case 2: Same column\n",
    "    elif col1 == col2:\n",
    "        if row1 == 0 and row2 != 0:\n",
    "            ciphertext = matrix[4][col1]+matrix[row2-1][col1]\n",
    "        elif row1 != 0 and row2 == 0:\n",
    "            ciphertext = matrix[row1-1][col1]+matrix[4][col1]\n",
    "        elif row1 == 0 and row2 == 0:\n",
    "            ciphertext = matrix[4][col1]+matrix[4][col1]\n",
    "        else:\n",
    "            ciphertext = matrix[row1-1][col1]+matrix[row2-1][col2]\n",
    "            \n",
    "    #Case3: Rectangle\n",
    "    else:\n",
    "        ciphertext = matrix[row1][col2] + matrix[row2][col1] \n",
    "    return ciphertext"
   ]
  },
  {
   "cell_type": "code",
   "execution_count": 26,
   "metadata": {},
   "outputs": [
    {
     "data": {
      "text/plain": [
       "'BEWARYOFTHENEXTCHAMBERTHEREISVERYLITTLEIOYTHERESPEAKOUTXTHEPASSWORDABRACADABRATOGOTHROUGHMAYYOUHAVETHESTRENGTHFORTHENEXTCHAMBERTOFINDTHEEXITYOUFIRSTWILXLNEXEDTOUTTERMAGICWORDSTHERE'"
      ]
     },
     "execution_count": 26,
     "metadata": {},
     "output_type": "execute_result"
    }
   ],
   "source": [
    "ciphertext = 'DF ULYP XO CQD LFWC RUBHEDY, CQDYG LN XDYL EGIYIG LMP CQDYF.LYFNH HXPZ CQF YNILXKPB \"NDCB_AN_BBHCN\" PQ FQ CQPKZBK. OLC PMCUNUG YMB IPYDIDCQ OXY CMB LDZP AULHDFY. CX OALG RMB FWGI PMXBNTIP ZLSWS LFWFE PQ ZCYGY KIBAT XMNKI PMBYD.'\n",
    "ciphertext_modified = ciphertext.replace(\" \",\"\").replace(\",\",\"\").replace(\".\",\"\").replace('\"',\"\").replace(\"_\",\"\")\n",
    "ans = ''\n",
    "for i in range(0,len(ciphertext_modified),2):\n",
    "    bigraph = ciphertext_modified[i]+ciphertext_modified[i+1]\n",
    "    converted_bigraph = decryption(matrix,bigraph)\n",
    "    ans+=converted_bigraph[0]+converted_bigraph[1]\n",
    "ans"
   ]
  },
  {
   "cell_type": "code",
   "execution_count": null,
   "metadata": {},
   "outputs": [],
   "source": []
  }
 ],
 "metadata": {
  "kernelspec": {
   "display_name": "Python 3",
   "language": "python",
   "name": "python3"
  },
  "language_info": {
   "codemirror_mode": {
    "name": "ipython",
    "version": 3
   },
   "file_extension": ".py",
   "mimetype": "text/x-python",
   "name": "python",
   "nbconvert_exporter": "python",
   "pygments_lexer": "ipython3",
   "version": "3.8.5"
  }
 },
 "nbformat": 4,
 "nbformat_minor": 4
}
